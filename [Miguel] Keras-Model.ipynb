{
 "cells": [
  {
   "cell_type": "markdown",
   "id": "formal-palmer",
   "metadata": {
    "id": "formal-palmer"
   },
   "source": [
    "# Load Libraries"
   ]
  },
  {
   "cell_type": "code",
   "execution_count": 1,
   "id": "indian-calendar",
   "metadata": {
    "colab": {
     "base_uri": "https://localhost:8080/"
    },
    "executionInfo": {
     "elapsed": 7190,
     "status": "ok",
     "timestamp": 1620316010186,
     "user": {
      "displayName": "Miguel Marques",
      "photoUrl": "https://lh3.googleusercontent.com/a-/AOh14GgxI4tbibdSB-1GNL3pUyRpvdf4mjk4ad6sMxNQeg=s64",
      "userId": "04941611119444813601"
     },
     "user_tz": -60
    },
    "id": "indian-calendar",
    "outputId": "938cdc53-533a-491a-9da0-f93a4d3a6ce9"
   },
   "outputs": [
    {
     "name": "stdout",
     "output_type": "stream",
     "text": [
      "INFO:tensorflow:Enabling eager execution\n",
      "INFO:tensorflow:Enabling v2 tensorshape\n",
      "INFO:tensorflow:Enabling resource variables\n",
      "INFO:tensorflow:Enabling tensor equality\n",
      "INFO:tensorflow:Enabling control flow v2\n"
     ]
    }
   ],
   "source": [
    "import matplotlib.pyplot as plt\n",
    "import seaborn as sns\n",
    "\n",
    "import tensorflow.keras\n",
    "from tensorflow.keras.models import Sequential\n",
    "from tensorflow.keras.layers import Dense, Conv2D ,MaxPooling2D, MaxPool2D , Flatten , Dropout \n",
    "from tensorflow.keras.preprocessing.image import ImageDataGenerator\n",
    "from tensorflow.keras.optimizers import Adam\n",
    "from tensorflow.keras.models import Sequential, load_model, save_model\n",
    "\n",
    "\n",
    "from sklearn.metrics import classification_report,confusion_matrix\n",
    "\n",
    "import tensorflow as tf\n",
    "\n",
    "import cv2\n",
    "import os\n",
    "\n",
    "from tensorflow.keras.preprocessing import image\n",
    "from sklearn.model_selection import train_test_split\n",
    "\n",
    "import numpy as np\n",
    "\n",
    "import pandas as pd\n",
    "\n",
    "image_path = \"dataset_train/dataset/\"\n",
    "#!unzip dataset_train.zip"
   ]
  },
  {
   "cell_type": "markdown",
   "id": "agricultural-gentleman",
   "metadata": {
    "id": "agricultural-gentleman"
   },
   "source": [
    "# Load Data"
   ]
  },
  {
   "cell_type": "code",
   "execution_count": 2,
   "id": "irish-straight",
   "metadata": {
    "colab": {
     "base_uri": "https://localhost:8080/"
    },
    "executionInfo": {
     "elapsed": 12715,
     "status": "ok",
     "timestamp": 1620316016821,
     "user": {
      "displayName": "Miguel Marques",
      "photoUrl": "https://lh3.googleusercontent.com/a-/AOh14GgxI4tbibdSB-1GNL3pUyRpvdf4mjk4ad6sMxNQeg=s64",
      "userId": "04941611119444813601"
     },
     "user_tz": -60
    },
    "id": "irish-straight",
    "outputId": "95291602-a45f-4dfc-8550-1884cbd3b712"
   },
   "outputs": [
    {
     "data": {
      "text/plain": [
       "(20000, 20000)"
      ]
     },
     "execution_count": 2,
     "metadata": {},
     "output_type": "execute_result"
    }
   ],
   "source": [
    "def loadDataSet(path):\n",
    "    def loadImages(path):\n",
    "        # literalmente dar load das imagens todas para estes arrays\n",
    "        # Listas por compreencao for life <3\n",
    "        real = [image.load_img(image_path+\"real/\"+file,target_size = (28,28), color_mode='grayscale') for file in os.listdir(image_path+\"real\")]\n",
    "        fake = [image.load_img(image_path+\"fake/\"+file,target_size = (28,28), color_mode='grayscale') for file in os.listdir(image_path+\"/fake\")]\n",
    "        return real,fake\n",
    "\n",
    "    def imagesToArray(imgs):\n",
    "        return np.array([image.img_to_array(img)[:,:,0] for img in imgs])\n",
    "    \n",
    "    real,fake = loadImages(path)\n",
    "    real_array = imagesToArray(real)\n",
    "    fake_array = imagesToArray(fake)\n",
    "    return real_array,fake_array\n",
    "  \n",
    "real,fake = loadDataSet(image_path)\n",
    "len(real),len(fake)"
   ]
  },
  {
   "cell_type": "markdown",
   "id": "union-revolution",
   "metadata": {
    "id": "union-revolution"
   },
   "source": [
    "# Train Val Test"
   ]
  },
  {
   "cell_type": "code",
   "execution_count": 3,
   "id": "modified-tracy",
   "metadata": {
    "colab": {
     "base_uri": "https://localhost:8080/"
    },
    "executionInfo": {
     "elapsed": 10932,
     "status": "ok",
     "timestamp": 1620316016824,
     "user": {
      "displayName": "Miguel Marques",
      "photoUrl": "https://lh3.googleusercontent.com/a-/AOh14GgxI4tbibdSB-1GNL3pUyRpvdf4mjk4ad6sMxNQeg=s64",
      "userId": "04941611119444813601"
     },
     "user_tz": -60
    },
    "id": "modified-tracy",
    "outputId": "d2296978-2802-44c8-89f1-04d1df64ebbe"
   },
   "outputs": [
    {
     "name": "stdout",
     "output_type": "stream",
     "text": [
      "Train -> 24000 [60.0%] \n",
      "Val   -> 8000 [20.0%] \n",
      "Test  -> 8000 [20.0%] \n"
     ]
    }
   ],
   "source": [
    "X = np.append(real,fake,axis=0)\n",
    "y = np.append(np.ones((20000,1)),np.zeros((20000,1)))\n",
    "X_train, X_val, y_train, y_val = train_test_split(X, y, test_size=0.4, random_state=13)\n",
    "X_test, X_val, y_test, y_val = train_test_split(X_val, y_val, test_size=0.5, random_state=13)\n",
    "print(\"Train -> {} [{}%] \".format(len(y_train),len(y_train)/40000*100))\n",
    "print(\"Val   -> {} [{}%] \".format(len(y_val),len(y_val)/40000*100))\n",
    "print(\"Test  -> {} [{}%] \".format(len(y_test),len(y_test)/40000*100))\n"
   ]
  },
  {
   "cell_type": "code",
   "execution_count": 4,
   "id": "clean-medicaid",
   "metadata": {
    "colab": {
     "base_uri": "https://localhost:8080/",
     "height": 281
    },
    "executionInfo": {
     "elapsed": 809,
     "status": "ok",
     "timestamp": 1620316160566,
     "user": {
      "displayName": "Miguel Marques",
      "photoUrl": "https://lh3.googleusercontent.com/a-/AOh14GgxI4tbibdSB-1GNL3pUyRpvdf4mjk4ad6sMxNQeg=s64",
      "userId": "04941611119444813601"
     },
     "user_tz": -60
    },
    "id": "clean-medicaid",
    "outputId": "7340b38b-cea5-427f-8cdb-48d4bace2edc"
   },
   "outputs": [
    {
     "data": {
      "image/png": "[encoded data removed]",
      "text/plain": [
       "<Figure size 432x288 with 1 Axes>"
      ]
     },
     "metadata": {
      "needs_background": "light"
     },
     "output_type": "display_data"
    }
   ],
   "source": [
    "_, frequency_train = np.unique(y_train, return_counts = True)\n",
    "_, frequency_val = np.unique(y_val, return_counts = True)\n",
    "_, frequency_test = np.unique(y_test, return_counts = True)\n",
    "\n",
    "plt.bar([\"Fake\",\"Real\"], frequency_train,label ='Train',color=\"#C97064\")\n",
    "plt.bar([\"Fake\",\"Real\"], frequency_val,label ='Validation',color=\"#BCA371\",bottom=frequency_train)\n",
    "plt.bar([\"Fake\",\"Real\"], frequency_test,label ='Test',color=\"#32965D\",bottom=np.add(frequency_train, frequency_test))\n",
    "plt.legend()\n",
    "plt.title(\"Train Val Test - Distribution\")\n",
    "plt.show()\n",
    "X_train = X_train.reshape(-1, 28, 28, 1)\n",
    "X_val = X_val.reshape(-1, 28, 28, 1)"
   ]
  },
  {
   "cell_type": "markdown",
   "id": "bright-plenty",
   "metadata": {
    "id": "bright-plenty"
   },
   "source": [
    "# Models\n",
    "\n",
    "https://www.analyticsvidhya.com/blog/2020/10/create-image-classification-model-python-keras/"
   ]
  },
  {
   "cell_type": "markdown",
   "id": "digital-exception",
   "metadata": {
    "id": "digital-exception"
   },
   "source": [
    "## Xception\n",
    "https://keras.io/api/applications/xception/"
   ]
  },
  {
   "cell_type": "code",
   "execution_count": 5,
   "id": "deluxe-swedish",
   "metadata": {
    "id": "deluxe-swedish",
    "scrolled": true
   },
   "outputs": [
    {
     "ename": "ValueError",
     "evalue": "If using `weights` as `\"imagenet\"` with `include_top` as true, `classes` should be 1000",
     "output_type": "error",
     "traceback": [
      "\u001b[1;31m---------------------------------------------------------------------------\u001b[0m",
      "\u001b[1;31mValueError\u001b[0m                                Traceback (most recent call last)",
      "\u001b[1;32m<ipython-input-5-6c05d43df2e5>\u001b[0m in \u001b[0;36m<module>\u001b[1;34m\u001b[0m\n\u001b[1;32m----> 1\u001b[1;33m model_xception =tf.keras.applications.Xception(\n\u001b[0m\u001b[0;32m      2\u001b[0m     \u001b[0minclude_top\u001b[0m\u001b[1;33m=\u001b[0m\u001b[1;32mTrue\u001b[0m\u001b[1;33m,\u001b[0m\u001b[1;33m\u001b[0m\u001b[1;33m\u001b[0m\u001b[0m\n\u001b[0;32m      3\u001b[0m     \u001b[0mweights\u001b[0m\u001b[1;33m=\u001b[0m\u001b[1;34m\"imagenet\"\u001b[0m\u001b[1;33m,\u001b[0m\u001b[1;33m\u001b[0m\u001b[1;33m\u001b[0m\u001b[0m\n\u001b[0;32m      4\u001b[0m     \u001b[0minput_tensor\u001b[0m\u001b[1;33m=\u001b[0m\u001b[1;32mNone\u001b[0m\u001b[1;33m,\u001b[0m\u001b[1;33m\u001b[0m\u001b[1;33m\u001b[0m\u001b[0m\n\u001b[0;32m      5\u001b[0m     \u001b[0minput_shape\u001b[0m\u001b[1;33m=\u001b[0m\u001b[1;33m(\u001b[0m\u001b[1;36m28\u001b[0m\u001b[1;33m,\u001b[0m\u001b[1;36m28\u001b[0m\u001b[1;33m,\u001b[0m\u001b[1;36m1\u001b[0m\u001b[1;33m)\u001b[0m\u001b[1;33m,\u001b[0m\u001b[1;33m\u001b[0m\u001b[1;33m\u001b[0m\u001b[0m\n",
      "\u001b[1;32mc:\\users\\tferr\\appdata\\local\\programs\\python\\python39\\lib\\site-packages\\tensorflow\\python\\keras\\applications\\xception.py\u001b[0m in \u001b[0;36mXception\u001b[1;34m(include_top, weights, input_tensor, input_shape, pooling, classes, classifier_activation)\u001b[0m\n\u001b[0;32m    120\u001b[0m \u001b[1;33m\u001b[0m\u001b[0m\n\u001b[0;32m    121\u001b[0m   \u001b[1;32mif\u001b[0m \u001b[0mweights\u001b[0m \u001b[1;33m==\u001b[0m \u001b[1;34m'imagenet'\u001b[0m \u001b[1;32mand\u001b[0m \u001b[0minclude_top\u001b[0m \u001b[1;32mand\u001b[0m \u001b[0mclasses\u001b[0m \u001b[1;33m!=\u001b[0m \u001b[1;36m1000\u001b[0m\u001b[1;33m:\u001b[0m\u001b[1;33m\u001b[0m\u001b[1;33m\u001b[0m\u001b[0m\n\u001b[1;32m--> 122\u001b[1;33m     raise ValueError('If using `weights` as `\"imagenet\"` with `include_top`'\n\u001b[0m\u001b[0;32m    123\u001b[0m                      ' as true, `classes` should be 1000')\n\u001b[0;32m    124\u001b[0m \u001b[1;33m\u001b[0m\u001b[0m\n",
      "\u001b[1;31mValueError\u001b[0m: If using `weights` as `\"imagenet\"` with `include_top` as true, `classes` should be 1000"
     ]
    }
   ],
   "source": [
    "model_xception =tf.keras.applications.Xception(\n",
    "    include_top=True,\n",
    "    weights=\"imagenet\",\n",
    "    input_tensor=None,\n",
    "    input_shape=(28,28,1),\n",
    "    pooling=None,\n",
    "    classes=2,\n",
    "    classifier_activation=\"softmax\",\n",
    ")"
   ]
  },
  {
   "cell_type": "markdown",
   "id": "U0c74cjT12Du",
   "metadata": {
    "id": "U0c74cjT12Du"
   },
   "source": [
    "# Modelo OP"
   ]
  },
  {
   "cell_type": "code",
   "execution_count": 5,
   "id": "significant-brief",
   "metadata": {
    "colab": {
     "base_uri": "https://localhost:8080/"
    },
    "executionInfo": {
     "elapsed": 5766,
     "status": "ok",
     "timestamp": 1620170331103,
     "user": {
      "displayName": "Miguel Marques",
      "photoUrl": "https://lh3.googleusercontent.com/a-/AOh14GgxI4tbibdSB-1GNL3pUyRpvdf4mjk4ad6sMxNQeg=s64",
      "userId": "04941611119444813601"
     },
     "user_tz": -60
    },
    "id": "significant-brief",
    "outputId": "6cd32bda-6e16-4b1e-fb32-791477fa2a65"
   },
   "outputs": [
    {
     "name": "stdout",
     "output_type": "stream",
     "text": [
      "Model: \"sequential\"\n",
      "_________________________________________________________________\n",
      "Layer (type)                 Output Shape              Param #   \n",
      "=================================================================\n",
      "conv2d (Conv2D)              (None, 26, 26, 128)       1280      \n",
      "_________________________________________________________________\n",
      "conv2d_1 (Conv2D)            (None, 24, 24, 64)        73792     \n",
      "_________________________________________________________________\n",
      "conv2d_2 (Conv2D)            (None, 22, 22, 32)        18464     \n",
      "_________________________________________________________________\n",
      "dropout (Dropout)            (None, 22, 22, 32)        0         \n",
      "_________________________________________________________________\n",
      "flatten (Flatten)            (None, 15488)             0         \n",
      "_________________________________________________________________\n",
      "dense (Dense)                (None, 128)               1982592   \n",
      "_________________________________________________________________\n",
      "dense_1 (Dense)              (None, 1)                 129       \n",
      "=================================================================\n",
      "Total params: 2,076,257\n",
      "Trainable params: 2,076,257\n",
      "Non-trainable params: 0\n",
      "_________________________________________________________________\n"
     ]
    }
   ],
   "source": [
    "model = Sequential()\n",
    "model.add(Conv2D(128, kernel_size=3, activation='relu', input_shape=(28,28,1)))\n",
    "model.add(Conv2D(64, kernel_size=3, activation='relu'))\n",
    "model.add(Conv2D(32, kernel_size=3, activation='relu'))\n",
    "model.add(Dropout(0.5))\n",
    "model.add(Flatten())\n",
    "model.add(Dense(128, activation='relu'))\n",
    "model.add(Dense(1, activation = 'softmax'))\n",
    "model.summary()"
   ]
  },
  {
   "cell_type": "code",
   "execution_count": 49,
   "id": "equal-purchase",
   "metadata": {
    "id": "equal-purchase"
   },
   "outputs": [],
   "source": [
    "#model.compile(optimizer='adam', loss='categorical_crossentropy', metrics=['accuracy'])\n",
    "# opt = Adam(learning_rate=0.01)\n",
    "from tensorflow.keras.metrics import Accuracy, Precision, Recall, AUC\n",
    "model.compile(\n",
    "    optimizer=\"adam\",\n",
    "    loss = tf.keras.losses.SparseCategoricalCrossentropy(from_logits=True), \n",
    "    metrics=['accuracy']\n",
    ")\n",
    "'''model.compile(\n",
    "    loss='binary_crossentropy',\n",
    "    optimizer='adam',\n",
    "    metrics=[Accuracy(), Precision(), Recall(), AUC()]\n",
    ")'''"
   ]
  },
  {
   "cell_type": "code",
   "execution_count": 50,
   "id": "piano-supplier",
   "metadata": {
    "colab": {
     "base_uri": "https://localhost:8080/"
    },
    "executionInfo": {
     "elapsed": 455329,
     "status": "ok",
     "timestamp": 1620170854131,
     "user": {
      "displayName": "Miguel Marques",
      "photoUrl": "https://lh3.googleusercontent.com/a-/AOh14GgxI4tbibdSB-1GNL3pUyRpvdf4mjk4ad6sMxNQeg=s64",
      "userId": "04941611119444813601"
     },
     "user_tz": -60
    },
    "id": "piano-supplier",
    "outputId": "3c541907-8c43-4829-f83e-770527590dba"
   },
   "outputs": [
    {
     "name": "stdout",
     "output_type": "stream",
     "text": [
      "750/750 [==============================] - 151s 199ms/step - loss: 0.6202 - accuracy: 0.4975 - precision_7: 0.4975 - recall_7: 1.0000 - auc_7: 0.5000 - val_loss: 0.2768 - val_accuracy: 0.5015 - val_precision_7: 0.5015 - val_recall_7: 1.0000 - val_auc_7: 0.5000 preci\n"
     ]
    }
   ],
   "source": [
    "history = model.fit(X_train,y_train,epochs = 1 ,batch_size=32, validation_data = (X_val, y_val))"
   ]
  },
  {
   "cell_type": "code",
   "execution_count": 51,
   "id": "accessory-investing",
   "metadata": {},
   "outputs": [
    {
     "name": "stdout",
     "output_type": "stream",
     "text": [
      "INFO:tensorflow:Assets written to: model_test_save\\assets\n"
     ]
    }
   ],
   "source": [
    "model.save(\"model_test_save\")"
   ]
  },
  {
   "cell_type": "code",
   "execution_count": 9,
   "id": "powerful-yesterday",
   "metadata": {},
   "outputs": [
    {
     "name": "stdout",
     "output_type": "stream",
     "text": [
      "WARNING:tensorflow:SavedModel saved prior to TF 2.5 detected when loading Keras model. Please ensure that you are saving the model with model.save() or tf.keras.models.save_model(), *NOT* tf.saved_model.save(). To confirm, there should be a file named \"keras_metadata.pb\" in the SavedModel directory.\n",
      "250/250 [==============================] - 9s 36ms/step - loss: 0.6931 - accuracy: 0.4985\n"
     ]
    },
    {
     "data": {
      "text/plain": [
       "[0.6931461095809937, 0.4984999895095825]"
      ]
     },
     "execution_count": 9,
     "metadata": {},
     "output_type": "execute_result"
    }
   ],
   "source": [
    "model = load_model('C:\\\\Users\\\\tferr\\\\Desktop\\\\ACA\\\\Projeto\\\\Project_Assignment_To_Students\\\\To_Students\\\\AML-Project\\\\Models\\\\Testes\\\\relu_relu_0.5\\\\model_drop0.5_epochs100_act-relu_relu')\n",
    "model.evaluate(X_val, y_val)"
   ]
  },
  {
   "cell_type": "code",
   "execution_count": null,
   "id": "V5Owxw5jtNgH",
   "metadata": {
    "colab": {
     "base_uri": "https://localhost:8080/",
     "height": 411
    },
    "executionInfo": {
     "elapsed": 1455,
     "status": "ok",
     "timestamp": 1620172822528,
     "user": {
      "displayName": "Miguel Marques",
      "photoUrl": "https://lh3.googleusercontent.com/a-/AOh14GgxI4tbibdSB-1GNL3pUyRpvdf4mjk4ad6sMxNQeg=s64",
      "userId": "04941611119444813601"
     },
     "user_tz": -60
    },
    "id": "V5Owxw5jtNgH",
    "outputId": "e3e9480c-43a9-497d-ee31-b63f65fb9045"
   },
   "outputs": [],
   "source": [
    "acc = history.history['accuracy']\n",
    "val_acc = history.history['val_accuracy']\n",
    "loss = history.history['loss']\n",
    "val_loss = history.history['val_loss']\n",
    "\n",
    "epochs_range = range(len(acc))\n",
    "\n",
    "plt.figure(figsize=(15, 15))\n",
    "plt.subplot(2, 2, 1)\n",
    "plt.plot(epochs_range, acc, label='Training Accuracy')\n",
    "plt.plot(epochs_range, val_acc, label='Validation Accuracy')\n",
    "plt.legend(loc='lower right')\n",
    "plt.title('Training and Validation Accuracy')\n",
    "\n",
    "plt.subplot(2, 2, 2)\n",
    "plt.plot(epochs_range, loss, label='Training Loss')\n",
    "plt.plot(epochs_range, val_loss, label='Validation Loss')\n",
    "plt.legend(loc='upper right')\n",
    "plt.title('Training and Validation Loss')\n",
    "plt.show()"
   ]
  },
  {
   "cell_type": "code",
   "execution_count": null,
   "id": "l4bN2d7EtOFO",
   "metadata": {
    "id": "l4bN2d7EtOFO"
   },
   "outputs": [],
   "source": [
    "X_test = X_test.reshape(-1, 28, 28, 1)"
   ]
  },
  {
   "cell_type": "code",
   "execution_count": null,
   "id": "o4KnO3TWtOI_",
   "metadata": {
    "colab": {
     "base_uri": "https://localhost:8080/"
    },
    "executionInfo": {
     "elapsed": 913,
     "status": "ok",
     "timestamp": 1620170901598,
     "user": {
      "displayName": "Miguel Marques",
      "photoUrl": "https://lh3.googleusercontent.com/a-/AOh14GgxI4tbibdSB-1GNL3pUyRpvdf4mjk4ad6sMxNQeg=s64",
      "userId": "04941611119444813601"
     },
     "user_tz": -60
    },
    "id": "o4KnO3TWtOI_",
    "outputId": "ebd1d746-e87d-403c-d94b-0a1faf797507"
   },
   "outputs": [],
   "source": [
    "predictions = model.predict_classes(X_test)\n",
    "predictions = predictions.reshape(1,-1)[0]\n",
    "\n",
    "print(classification_report(y_test, predictions, target_names = ['Fake (Class 0)','Real (Class 1)']))"
   ]
  },
  {
   "cell_type": "code",
   "execution_count": null,
   "id": "4pd3tNSOt01m",
   "metadata": {
    "colab": {
     "base_uri": "https://localhost:8080/"
    },
    "executionInfo": {
     "elapsed": 1135,
     "status": "ok",
     "timestamp": 1620170992763,
     "user": {
      "displayName": "Miguel Marques",
      "photoUrl": "https://lh3.googleusercontent.com/a-/AOh14GgxI4tbibdSB-1GNL3pUyRpvdf4mjk4ad6sMxNQeg=s64",
      "userId": "04941611119444813601"
     },
     "user_tz": -60
    },
    "id": "4pd3tNSOt01m",
    "outputId": "4eef4b70-b703-4dd5-822b-638b52759cd2"
   },
   "outputs": [],
   "source": [
    "!unzip dataset_test.zip"
   ]
  },
  {
   "cell_type": "code",
   "execution_count": null,
   "id": "EGkRo163th2u",
   "metadata": {
    "id": "EGkRo163th2u"
   },
   "outputs": [],
   "source": [
    "\n",
    "image_path = \"dataset_test/dataset_test\"\n",
    "\n",
    "def loadTestSet(path):\n",
    "    def loadImages(path):\n",
    "        # literalmente dar load das imagens todas para estes arrays\n",
    "        # Listas por compreencao for life <3\n",
    "        images = [image.load_img(image_path+\"/images/\"+file,target_size = (28,28), color_mode='grayscale') for file in sorted(os.listdir(image_path+\"/images\"))]\n",
    "        return images\n",
    "\n",
    "    def imagesToArray(imgs):\n",
    "        return np.array([image.img_to_array(img)[:,:,0] for img in imgs])\n",
    "    \n",
    "    images = loadImages(path)\n",
    "    images_array = imagesToArray(images)\n",
    "    return images_array\n",
    "  \n",
    "test_set = loadTestSet(image_path)"
   ]
  },
  {
   "cell_type": "code",
   "execution_count": null,
   "id": "SqnYqJfKtvRw",
   "metadata": {
    "colab": {
     "base_uri": "https://localhost:8080/"
    },
    "executionInfo": {
     "elapsed": 584,
     "status": "ok",
     "timestamp": 1620172219540,
     "user": {
      "displayName": "Miguel Marques",
      "photoUrl": "https://lh3.googleusercontent.com/a-/AOh14GgxI4tbibdSB-1GNL3pUyRpvdf4mjk4ad6sMxNQeg=s64",
      "userId": "04941611119444813601"
     },
     "user_tz": -60
    },
    "id": "SqnYqJfKtvRw",
    "outputId": "336df5a0-3014-4d5f-e0e2-2ce724b86918"
   },
   "outputs": [],
   "source": [
    "test_set = test_set.reshape(-1, 28, 28, 1)\n",
    "predictions = model.predict_classes(test_set)\n",
    "predictions"
   ]
  },
  {
   "cell_type": "code",
   "execution_count": null,
   "id": "o4KxCu_ztvT8",
   "metadata": {
    "id": "o4KxCu_ztvT8"
   },
   "outputs": [],
   "source": [
    "ids = [img.split(\".\")[0] for img in sorted(os.listdir(\"dataset_test/dataset_test/images\"))]"
   ]
  },
  {
   "cell_type": "code",
   "execution_count": null,
   "id": "pNqAWv8utvXL",
   "metadata": {
    "id": "pNqAWv8utvXL"
   },
   "outputs": [],
   "source": [
    "submition = pd.DataFrame((np.array([ids,predictions]).T),columns= [\"Id\",\"Category\"])\n",
    "submition = submition.astype(int).sort_values(\"Id\")\n",
    "submition.to_csv(\"Submition.csv\",index=False)"
   ]
  },
  {
   "cell_type": "code",
   "execution_count": null,
   "id": "PJT04oL8tvab",
   "metadata": {
    "colab": {
     "base_uri": "https://localhost:8080/"
    },
    "executionInfo": {
     "elapsed": 1275,
     "status": "ok",
     "timestamp": 1620171114160,
     "user": {
      "displayName": "Miguel Marques",
      "photoUrl": "https://lh3.googleusercontent.com/a-/AOh14GgxI4tbibdSB-1GNL3pUyRpvdf4mjk4ad6sMxNQeg=s64",
      "userId": "04941611119444813601"
     },
     "user_tz": -60
    },
    "id": "PJT04oL8tvab",
    "outputId": "bf6ac6f5-ab47-418d-dedc-ec2767b4c32a"
   },
   "outputs": [],
   "source": [
    "model.save('second_model')"
   ]
  },
  {
   "cell_type": "markdown",
   "id": "graduate-sculpture",
   "metadata": {
    "id": "graduate-sculpture"
   },
   "source": [
    "## SVM Model"
   ]
  },
  {
   "cell_type": "code",
   "execution_count": null,
   "id": "jY7Pu9kQTTqd",
   "metadata": {
    "executionInfo": {
     "elapsed": 1130,
     "status": "ok",
     "timestamp": 1620316053427,
     "user": {
      "displayName": "Miguel Marques",
      "photoUrl": "https://lh3.googleusercontent.com/a-/AOh14GgxI4tbibdSB-1GNL3pUyRpvdf4mjk4ad6sMxNQeg=s64",
      "userId": "04941611119444813601"
     },
     "user_tz": -60
    },
    "id": "jY7Pu9kQTTqd"
   },
   "outputs": [],
   "source": [
    "from tensorflow.keras.layers.experimental import RandomFourierFeatures"
   ]
  },
  {
   "cell_type": "code",
   "execution_count": null,
   "id": "cd4ySnxVTT6f",
   "metadata": {
    "colab": {
     "base_uri": "https://localhost:8080/"
    },
    "executionInfo": {
     "elapsed": 1720,
     "status": "ok",
     "timestamp": 1620316407286,
     "user": {
      "displayName": "Miguel Marques",
      "photoUrl": "https://lh3.googleusercontent.com/a-/AOh14GgxI4tbibdSB-1GNL3pUyRpvdf4mjk4ad6sMxNQeg=s64",
      "userId": "04941611119444813601"
     },
     "user_tz": -60
    },
    "id": "cd4ySnxVTT6f",
    "outputId": "303a3f79-70b0-4ab1-80c4-b56683691f86"
   },
   "outputs": [],
   "source": [
    "model = Sequential()\n",
    "model.add(Conv2D(128, kernel_size=3, activation='relu', input_shape=(28,28,1)))\n",
    "model.add(Conv2D(64, kernel_size=3, activation='relu'))\n",
    "model.add(Conv2D(32, kernel_size=3, activation='relu'))\n",
    "model.add(Dropout(0.5))\n",
    "model.add(Flatten())\n",
    "RandomFourierFeatures(\n",
    "      output_dim=64,\n",
    "      trainable=\"True\",\n",
    "      kernel_initializer='gaussian'),\n",
    "\n",
    "model.add(Dense(units=2, activation='softmax')),\n",
    "\n",
    "opt = Adam(lr=0.01)\n",
    "model.compile(optimizer = opt , loss = \"hinge\" , metrics = ['accuracy'])\n",
    "model.summary()"
   ]
  },
  {
   "cell_type": "code",
   "execution_count": null,
   "id": "SRRtB8XqTUAC",
   "metadata": {
    "colab": {
     "base_uri": "https://localhost:8080/",
     "height": 921
    },
    "executionInfo": {
     "elapsed": 76040,
     "status": "error",
     "timestamp": 1620316483993,
     "user": {
      "displayName": "Miguel Marques",
      "photoUrl": "https://lh3.googleusercontent.com/a-/AOh14GgxI4tbibdSB-1GNL3pUyRpvdf4mjk4ad6sMxNQeg=s64",
      "userId": "04941611119444813601"
     },
     "user_tz": -60
    },
    "id": "SRRtB8XqTUAC",
    "outputId": "4a1ca688-a45c-4dea-f5bb-9491bfed6495"
   },
   "outputs": [],
   "source": [
    "history = model.fit(X_train,y_train,epochs = 100 , validation_data = (X_val, y_val))"
   ]
  },
  {
   "cell_type": "code",
   "execution_count": null,
   "id": "0vE2QEBV2FXG",
   "metadata": {
    "colab": {
     "base_uri": "https://localhost:8080/",
     "height": 315
    },
    "executionInfo": {
     "elapsed": 1066,
     "status": "ok",
     "timestamp": 1620251066115,
     "user": {
      "displayName": "Miguel Marques",
      "photoUrl": "https://lh3.googleusercontent.com/a-/AOh14GgxI4tbibdSB-1GNL3pUyRpvdf4mjk4ad6sMxNQeg=s64",
      "userId": "04941611119444813601"
     },
     "user_tz": -60
    },
    "id": "0vE2QEBV2FXG",
    "outputId": "81c7c6a7-e3d0-4b4d-cec0-42170e869477"
   },
   "outputs": [],
   "source": [
    "acc = history.history['accuracy']\n",
    "val_acc = history.history['val_accuracy']\n",
    "loss = history.history['loss']\n",
    "val_loss = history.history['val_loss']\n",
    "\n",
    "epochs_range = range(len(val_loss))\n",
    "\n",
    "plt.figure(figsize=(15, 15))\n",
    "plt.subplot(2, 2, 1)\n",
    "plt.plot(epochs_range, acc, label='Training Accuracy')\n",
    "plt.plot(epochs_range, val_acc, label='Validation Accuracy')\n",
    "plt.legend(loc='lower right')\n",
    "plt.title('Training and Validation Accuracy')\n",
    "\n",
    "plt.subplot(2, 2, 2)\n",
    "plt.plot(epochs_range, loss, label='Training Loss')\n",
    "plt.plot(epochs_range, val_loss, label='Validation Loss')\n",
    "plt.legend(loc='upper right')\n",
    "plt.title('Training and Validation Loss')\n",
    "plt.show()"
   ]
  },
  {
   "cell_type": "markdown",
   "id": "_kis5Scs2AR9",
   "metadata": {
    "id": "_kis5Scs2AR9"
   },
   "source": [
    "# RNN Model"
   ]
  },
  {
   "cell_type": "code",
   "execution_count": null,
   "id": "opUxAeGdZ2To",
   "metadata": {
    "colab": {
     "base_uri": "https://localhost:8080/"
    },
    "executionInfo": {
     "elapsed": 1108,
     "status": "ok",
     "timestamp": 1620258375992,
     "user": {
      "displayName": "Miguel Marques",
      "photoUrl": "https://lh3.googleusercontent.com/a-/AOh14GgxI4tbibdSB-1GNL3pUyRpvdf4mjk4ad6sMxNQeg=s64",
      "userId": "04941611119444813601"
     },
     "user_tz": -60
    },
    "id": "opUxAeGdZ2To",
    "outputId": "90100b04-5909-4d14-a650-fdbb808a08a1"
   },
   "outputs": [],
   "source": [
    "from tensorflow.keras import layers\n",
    "\n",
    "model = keras.Sequential()\n",
    "# Add an Embedding layer expecting input vocab of size 1000, and\n",
    "# output embedding dimension of size 64.\n",
    "model.add(Conv2D(128, kernel_size=3, activation='relu', input_shape=(28,28,1)))\n",
    "model.add(Conv2D(64, kernel_size=3, activation='relu'))\n",
    "model.add(Conv2D(32, kernel_size=3, activation='relu'))\n",
    "model.add(Dropout(0.5))\n",
    "model.add(Flatten())\n",
    "# Add a LSTM layer with 128 internal units.\n",
    "model.add(layers.Embedding(input_dim=1000, output_dim=64))\n",
    "\n",
    "model.add(layers.LSTM(128))\n",
    "\n",
    "\n",
    "model.add(Dense(units=2, activation='softmax')),\n",
    "\n",
    "opt = Adam(lr=0.01)\n",
    "model.compile(optimizer = \"adam\" , loss = tf.keras.losses.SparseCategoricalCrossentropy(from_logits=True) , metrics = ['accuracy'])\n",
    "model.summary()\n"
   ]
  },
  {
   "cell_type": "code",
   "execution_count": null,
   "id": "jKLFh8Rs1-mG",
   "metadata": {
    "colab": {
     "base_uri": "https://localhost:8080/",
     "height": 1000
    },
    "executionInfo": {
     "elapsed": 765,
     "status": "error",
     "timestamp": 1620258393981,
     "user": {
      "displayName": "Miguel Marques",
      "photoUrl": "https://lh3.googleusercontent.com/a-/AOh14GgxI4tbibdSB-1GNL3pUyRpvdf4mjk4ad6sMxNQeg=s64",
      "userId": "04941611119444813601"
     },
     "user_tz": -60
    },
    "id": "jKLFh8Rs1-mG",
    "outputId": "bb8f7e7d-c770-4cb3-8342-43da81ae406f"
   },
   "outputs": [],
   "source": [
    "history = model.fit(X_train,y_train,epochs = 100 , validation_data = (X_val, y_val))"
   ]
  },
  {
   "cell_type": "markdown",
   "id": "knowing-memorabilia",
   "metadata": {},
   "source": [
    "## scikit-learn"
   ]
  },
  {
   "cell_type": "code",
   "execution_count": null,
   "id": "j5ubcB141-o4",
   "metadata": {
    "id": "j5ubcB141-o4"
   },
   "outputs": [],
   "source": [
    "from sklearn.linear_model import SGDClassifier\n",
    "from sklearn.model_selection import cross_val_predict\n",
    "from sklearn.preprocessing import StandardScaler, Normalizer\n",
    "import skimage\n",
    "from skimage import color\n",
    "from skimage.feature import hog\n"
   ]
  },
  {
   "cell_type": "code",
   "execution_count": null,
   "id": "ignored-detroit",
   "metadata": {},
   "outputs": [],
   "source": [
    "from sklearn.base import BaseEstimator, TransformerMixin\n",
    "\n",
    "class HogTransformer(BaseEstimator, TransformerMixin):\n",
    "    \"\"\"\n",
    "    Expects an array of 2d arrays (1 channel images)\n",
    "    Calculates hog features for each img\n",
    "    \"\"\"\n",
    " \n",
    "    def __init__(self, y=None, orientations=9,\n",
    "                 pixels_per_cell=(8, 8),\n",
    "                 cells_per_block=(3, 3), block_norm='L2-Hys'):\n",
    "        self.y = y\n",
    "        self.orientations = orientations\n",
    "        self.pixels_per_cell = pixels_per_cell\n",
    "        self.cells_per_block = cells_per_block\n",
    "        self.block_norm = block_norm\n",
    " \n",
    "    def fit(self, X, y=None):\n",
    "        return self\n",
    " \n",
    "    def transform(self, X, y=None):\n",
    " \n",
    "        def local_hog(X):\n",
    "            return hog(X,\n",
    "                       orientations=self.orientations,\n",
    "                       pixels_per_cell=self.pixels_per_cell,\n",
    "                       cells_per_block=self.cells_per_block,\n",
    "                       block_norm=self.block_norm)\n",
    " \n",
    "        try: # parallel\n",
    "            return np.array([local_hog(img) for img in X])\n",
    "        except:\n",
    "            return np.array([local_hog(img) for img in X])"
   ]
  },
  {
   "cell_type": "code",
   "execution_count": null,
   "id": "AgtBWeLq1-sC",
   "metadata": {
    "id": "AgtBWeLq1-sC"
   },
   "outputs": [],
   "source": [
    "# create an instance of each transformer\n",
    "hogify = HogTransformer(\n",
    "    pixels_per_cell=(14, 14), \n",
    "    cells_per_block=(2,2), \n",
    "    orientations=9, \n",
    "    block_norm='L2-Hys'\n",
    ")\n",
    "scalify = StandardScaler()\n",
    " \n",
    "# call fit_transform on each transform converting X_train step by step\n",
    "X_train_hog = hogify.fit_transform(X_train)\n",
    "X_train_prepared = scalify.fit_transform(X_train_hog)\n",
    " \n",
    "print(X_train_prepared.shape)"
   ]
  },
  {
   "cell_type": "code",
   "execution_count": null,
   "id": "LGnggjKA1-ud",
   "metadata": {
    "id": "LGnggjKA1-ud"
   },
   "outputs": [],
   "source": []
  },
  {
   "cell_type": "code",
   "execution_count": null,
   "id": "norman-punishment",
   "metadata": {},
   "outputs": [],
   "source": []
  }
 ],
 "metadata": {
  "accelerator": "GPU",
  "colab": {
   "collapsed_sections": [],
   "name": "Keras Model.ipynb",
   "provenance": []
  },
  "kernelspec": {
   "display_name": "Python 3",
   "language": "python",
   "name": "python3"
  },
  "language_info": {
   "codemirror_mode": {
    "name": "ipython",
    "version": 3
   },
   "file_extension": ".py",
   "mimetype": "text/x-python",
   "name": "python",
   "nbconvert_exporter": "python",
   "pygments_lexer": "ipython3",
   "version": "3.9.2"
  }
 },
 "nbformat": 4,
 "nbformat_minor": 5
}
