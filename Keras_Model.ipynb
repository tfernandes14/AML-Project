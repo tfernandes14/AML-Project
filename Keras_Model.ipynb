{
 "cells": [
  {
   "cell_type": "markdown",
   "id": "formal-palmer",
   "metadata": {},
   "source": [
    "# Load Libraries"
   ]
  },
  {
   "cell_type": "code",
   "execution_count": 2,
   "id": "indian-calendar",
   "metadata": {},
   "outputs": [],
   "source": [
    "import matplotlib.pyplot as plt\n",
    "import seaborn as sns\n",
    "\n",
    "import tensorflow.keras\n",
    "from tensorflow.keras.models import Sequential\n",
    "from tensorflow.keras.layers import Dense, Conv2D , MaxPool2D , Flatten , Dropout \n",
    "from tensorflow.keras.preprocessing.image import ImageDataGenerator\n",
    "from tensorflow.keras.optimizers import Adam\n",
    "\n",
    "from sklearn.metrics import classification_report,confusion_matrix\n",
    "\n",
    "import tensorflow as tf\n",
    "\n",
    "import cv2\n",
    "import os\n",
    "\n",
    "from tensorflow.keras.preprocessing import image\n",
    "from sklearn.model_selection import train_test_split\n",
    "\n",
    "\n",
    "\n",
    "import numpy as np\n",
    "\n",
    "import pandas as pd\n",
    "\n",
    "image_path = \"dataset_train/dataset/\""
   ]
  },
  {
   "cell_type": "markdown",
   "id": "inside-valuation",
   "metadata": {},
   "source": [
    "ler os dados com o image_dataset_from_directory\n",
    "\n",
    "subset=\"training\"\n",
    "subset=\"validation\"\n",
    "-> Se forem seguidos, o gajo separa automaticamente"
   ]
  },
  {
   "cell_type": "markdown",
   "id": "agricultural-gentleman",
   "metadata": {},
   "source": [
    "# Load Data"
   ]
  },
  {
   "cell_type": "code",
   "execution_count": 36,
   "id": "irish-straight",
   "metadata": {},
   "outputs": [
    {
     "data": {
      "text/plain": [
       "(20000, 20000)"
      ]
     },
     "execution_count": 36,
     "metadata": {},
     "output_type": "execute_result"
    }
   ],
   "source": [
    "def loadDataSet(path):\n",
    "    def loadImages(path):\n",
    "        # literalmente dar load das imagens todas para estes arrays\n",
    "        # Listas por compreencao for life <3\n",
    "        real = [image.load_img(image_path+\"/real/\"+file,target_size = (32,32), color_mode='grayscale') for file in os.listdir(image_path+\"/real\")]\n",
    "        fake = [image.load_img(image_path+\"/fake/\"+file,target_size = (32,32), color_mode='grayscale') for file in os.listdir(image_path+\"/fake\")]\n",
    "        return real,fake\n",
    "\n",
    "    def imagesToArray(imgs):\n",
    "        return np.array([image.img_to_array(img)[:,:,0] for img in imgs])\n",
    "    \n",
    "    real,fake = loadImages(path)\n",
    "    real_array = imagesToArray(real)\n",
    "    fake_array = imagesToArray(fake)\n",
    "    return real_array,fake_array\n",
    "  \n",
    "real,fake = loadDataSet(image_path)\n",
    "len(real),len(fake)"
   ]
  },
  {
   "cell_type": "markdown",
   "id": "union-revolution",
   "metadata": {},
   "source": [
    "# Train Val Test"
   ]
  },
  {
   "cell_type": "code",
   "execution_count": 37,
   "id": "modified-tracy",
   "metadata": {},
   "outputs": [
    {
     "name": "stdout",
     "output_type": "stream",
     "text": [
      "24000 24000\n",
      "Train -> 24000 [60.0%] \n",
      "Val   -> 8000 [20.0%] \n",
      "Test  -> 8000 [20.0%] \n"
     ]
    }
   ],
   "source": [
    "X = np.append(real,fake,axis=0)\n",
    "y = np.append(np.ones((20000,1)),np.zeros((20000,1)))\n",
    "X_train, X_val, y_train, y_val = train_test_split(X, y, test_size=0.4, random_state=13)\n",
    "X_test, X_val, y_test, y_val = train_test_split(X_val, y_val, test_size=0.5, random_state=13)\n",
    "print(len(X_train), len(y_train))\n",
    "print(\"Train -> {} [{}%] \".format(len(y_train),len(y_train)/40000*100))\n",
    "print(\"Val   -> {} [{}%] \".format(len(y_val),len(y_val)/40000*100))\n",
    "print(\"Test  -> {} [{}%] \".format(len(y_test),len(y_test)/40000*100))\n"
   ]
  },
  {
   "cell_type": "code",
   "execution_count": 4,
   "id": "clean-medicaid",
   "metadata": {},
   "outputs": [
    {
     "data": {
      "image/png": "[encoded data removed]",
      "text/plain": [
       "<Figure size 432x288 with 1 Axes>"
      ]
     },
     "metadata": {
      "needs_background": "light"
     },
     "output_type": "display_data"
    }
   ],
   "source": [
    "_, frequency_train = np.unique(y_train, return_counts = True)\n",
    "_, frequency_val = np.unique(y_val, return_counts = True)\n",
    "_, frequency_test = np.unique(y_test, return_counts = True)\n",
    "\n",
    "plt.bar([\"Fake\",\"Real\"], frequency_train,label ='Train',color=\"#C97064\")\n",
    "plt.bar([\"Fake\",\"Real\"], frequency_val,label ='Validation',color=\"#BCA371\",bottom=frequency_train)\n",
    "plt.bar([\"Fake\",\"Real\"], frequency_test,label ='Test',color=\"#32965D\",bottom=np.add(frequency_train, frequency_test))\n",
    "plt.legend()\n",
    "plt.title(\"Train Val Test - Distribution\")\n",
    "plt.show()"
   ]
  },
  {
   "cell_type": "markdown",
   "id": "bright-plenty",
   "metadata": {},
   "source": [
    "# Model\n",
    "\n",
    "https://www.analyticsvidhya.com/blog/2020/10/create-image-classification-model-python-keras/\n",
    "\n",
    "https://towardsdatascience.com/deep-learning-googlenet-explained-de8861c82765"
   ]
  },
  {
   "cell_type": "code",
   "execution_count": 5,
   "id": "elegant-optimum",
   "metadata": {},
   "outputs": [
    {
     "name": "stdout",
     "output_type": "stream",
     "text": [
      "Model: \"sequential\"\n",
      "_________________________________________________________________\n",
      "Layer (type)                 Output Shape              Param #   \n",
      "=================================================================\n",
      "conv2d (Conv2D)              (None, 28, 28, 32)        64        \n",
      "_________________________________________________________________\n",
      "max_pooling2d (MaxPooling2D) (None, 14, 14, 32)        0         \n",
      "_________________________________________________________________\n",
      "conv2d_1 (Conv2D)            (None, 14, 14, 32)        1056      \n",
      "_________________________________________________________________\n",
      "max_pooling2d_1 (MaxPooling2 (None, 7, 7, 32)          0         \n",
      "_________________________________________________________________\n",
      "conv2d_2 (Conv2D)            (None, 7, 7, 64)          2112      \n",
      "_________________________________________________________________\n",
      "max_pooling2d_2 (MaxPooling2 (None, 3, 3, 64)          0         \n",
      "_________________________________________________________________\n",
      "dropout (Dropout)            (None, 3, 3, 64)          0         \n",
      "_________________________________________________________________\n",
      "flatten (Flatten)            (None, 576)               0         \n",
      "_________________________________________________________________\n",
      "dense (Dense)                (None, 128)               73856     \n",
      "_________________________________________________________________\n",
      "dense_1 (Dense)              (None, 2)                 258       \n",
      "=================================================================\n",
      "Total params: 77,346\n",
      "Trainable params: 77,346\n",
      "Non-trainable params: 0\n",
      "_________________________________________________________________\n"
     ]
    }
   ],
   "source": [
    "model = Sequential()\n",
    "model.add(Conv2D(32,1,padding=\"same\", activation=\"relu\", input_shape=(28,28,1)))\n",
    "model.add(MaxPool2D())\n",
    "\n",
    "model.add(Conv2D(32, 1, padding=\"same\", activation=\"relu\"))\n",
    "model.add(MaxPool2D())\n",
    "\n",
    "model.add(Conv2D(64, 1, padding=\"same\", activation=\"relu\"))\n",
    "model.add(MaxPool2D())\n",
    "model.add(Dropout(0.4))\n",
    "\n",
    "model.add(Flatten())\n",
    "model.add(Dense(128,activation=\"relu\"))\n",
    "model.add(Dense(2, activation=\"softmax\"))\n",
    "\n",
    "model.summary()"
   ]
  },
  {
   "cell_type": "code",
   "execution_count": 6,
   "id": "dutch-giant",
   "metadata": {},
   "outputs": [
    {
     "name": "stderr",
     "output_type": "stream",
     "text": [
      "c:\\users\\tferr\\appdata\\local\\programs\\python\\python39\\lib\\site-packages\\tensorflow\\python\\keras\\optimizer_v2\\optimizer_v2.py:374: UserWarning: The `lr` argument is deprecated, use `learning_rate` instead.\n",
      "  warnings.warn(\n"
     ]
    }
   ],
   "source": [
    "opt = Adam(lr=0.000001)\n",
    "model.compile(optimizer = opt , loss = tf.keras.losses.SparseCategoricalCrossentropy(from_logits=True) , metrics = ['accuracy'])"
   ]
  },
  {
   "cell_type": "code",
   "execution_count": 7,
   "id": "urban-appointment",
   "metadata": {},
   "outputs": [],
   "source": [
    "X_train = X_train.reshape(-1, 28, 28, 1)\n",
    "X_val = X_val.reshape(-1, 28, 28, 1)"
   ]
  },
  {
   "cell_type": "code",
   "execution_count": 8,
   "id": "authentic-invention",
   "metadata": {},
   "outputs": [
    {
     "name": "stdout",
     "output_type": "stream",
     "text": [
      "Epoch 1/500\n"
     ]
    },
    {
     "name": "stderr",
     "output_type": "stream",
     "text": [
      "c:\\users\\tferr\\appdata\\local\\programs\\python\\python39\\lib\\site-packages\\tensorflow\\python\\keras\\backend.py:4929: UserWarning: \"`sparse_categorical_crossentropy` received `from_logits=True`, but the `output` argument was produced by a sigmoid or softmax activation and thus does not represent logits. Was this intended?\"\n",
      "  warnings.warn(\n"
     ]
    },
    {
     "name": "stdout",
     "output_type": "stream",
     "text": [
      "693/750 [==========================>...] - ETA: 0s - loss: 8.0645 - accuracy: 0.4976"
     ]
    },
    {
     "ename": "KeyboardInterrupt",
     "evalue": "",
     "output_type": "error",
     "traceback": [
      "\u001b[1;31m---------------------------------------------------------------------------\u001b[0m",
      "\u001b[1;31mKeyboardInterrupt\u001b[0m                         Traceback (most recent call last)",
      "\u001b[1;32m<ipython-input-8-aab819216232>\u001b[0m in \u001b[0;36m<module>\u001b[1;34m\u001b[0m\n\u001b[1;32m----> 1\u001b[1;33m \u001b[0mhistory\u001b[0m \u001b[1;33m=\u001b[0m \u001b[0mmodel\u001b[0m\u001b[1;33m.\u001b[0m\u001b[0mfit\u001b[0m\u001b[1;33m(\u001b[0m\u001b[0mX_train\u001b[0m\u001b[1;33m,\u001b[0m\u001b[0my_train\u001b[0m\u001b[1;33m,\u001b[0m\u001b[0mepochs\u001b[0m \u001b[1;33m=\u001b[0m \u001b[1;36m500\u001b[0m \u001b[1;33m,\u001b[0m \u001b[0mvalidation_data\u001b[0m \u001b[1;33m=\u001b[0m \u001b[1;33m(\u001b[0m\u001b[0mX_val\u001b[0m\u001b[1;33m,\u001b[0m \u001b[0my_val\u001b[0m\u001b[1;33m)\u001b[0m\u001b[1;33m)\u001b[0m\u001b[1;33m\u001b[0m\u001b[1;33m\u001b[0m\u001b[0m\n\u001b[0m",
      "\u001b[1;32mc:\\users\\tferr\\appdata\\local\\programs\\python\\python39\\lib\\site-packages\\tensorflow\\python\\keras\\engine\\training.py\u001b[0m in \u001b[0;36mfit\u001b[1;34m(self, x, y, batch_size, epochs, verbose, callbacks, validation_split, validation_data, shuffle, class_weight, sample_weight, initial_epoch, steps_per_epoch, validation_steps, validation_batch_size, validation_freq, max_queue_size, workers, use_multiprocessing)\u001b[0m\n\u001b[0;32m   1181\u001b[0m                 _r=1):\n\u001b[0;32m   1182\u001b[0m               \u001b[0mcallbacks\u001b[0m\u001b[1;33m.\u001b[0m\u001b[0mon_train_batch_begin\u001b[0m\u001b[1;33m(\u001b[0m\u001b[0mstep\u001b[0m\u001b[1;33m)\u001b[0m\u001b[1;33m\u001b[0m\u001b[1;33m\u001b[0m\u001b[0m\n\u001b[1;32m-> 1183\u001b[1;33m               \u001b[0mtmp_logs\u001b[0m \u001b[1;33m=\u001b[0m \u001b[0mself\u001b[0m\u001b[1;33m.\u001b[0m\u001b[0mtrain_function\u001b[0m\u001b[1;33m(\u001b[0m\u001b[0miterator\u001b[0m\u001b[1;33m)\u001b[0m\u001b[1;33m\u001b[0m\u001b[1;33m\u001b[0m\u001b[0m\n\u001b[0m\u001b[0;32m   1184\u001b[0m               \u001b[1;32mif\u001b[0m \u001b[0mdata_handler\u001b[0m\u001b[1;33m.\u001b[0m\u001b[0mshould_sync\u001b[0m\u001b[1;33m:\u001b[0m\u001b[1;33m\u001b[0m\u001b[1;33m\u001b[0m\u001b[0m\n\u001b[0;32m   1185\u001b[0m                 \u001b[0mcontext\u001b[0m\u001b[1;33m.\u001b[0m\u001b[0masync_wait\u001b[0m\u001b[1;33m(\u001b[0m\u001b[1;33m)\u001b[0m\u001b[1;33m\u001b[0m\u001b[1;33m\u001b[0m\u001b[0m\n",
      "\u001b[1;32mc:\\users\\tferr\\appdata\\local\\programs\\python\\python39\\lib\\site-packages\\tensorflow\\python\\eager\\def_function.py\u001b[0m in \u001b[0;36m__call__\u001b[1;34m(self, *args, **kwds)\u001b[0m\n\u001b[0;32m    887\u001b[0m \u001b[1;33m\u001b[0m\u001b[0m\n\u001b[0;32m    888\u001b[0m       \u001b[1;32mwith\u001b[0m \u001b[0mOptionalXlaContext\u001b[0m\u001b[1;33m(\u001b[0m\u001b[0mself\u001b[0m\u001b[1;33m.\u001b[0m\u001b[0m_jit_compile\u001b[0m\u001b[1;33m)\u001b[0m\u001b[1;33m:\u001b[0m\u001b[1;33m\u001b[0m\u001b[1;33m\u001b[0m\u001b[0m\n\u001b[1;32m--> 889\u001b[1;33m         \u001b[0mresult\u001b[0m \u001b[1;33m=\u001b[0m \u001b[0mself\u001b[0m\u001b[1;33m.\u001b[0m\u001b[0m_call\u001b[0m\u001b[1;33m(\u001b[0m\u001b[1;33m*\u001b[0m\u001b[0margs\u001b[0m\u001b[1;33m,\u001b[0m \u001b[1;33m**\u001b[0m\u001b[0mkwds\u001b[0m\u001b[1;33m)\u001b[0m\u001b[1;33m\u001b[0m\u001b[1;33m\u001b[0m\u001b[0m\n\u001b[0m\u001b[0;32m    890\u001b[0m \u001b[1;33m\u001b[0m\u001b[0m\n\u001b[0;32m    891\u001b[0m       \u001b[0mnew_tracing_count\u001b[0m \u001b[1;33m=\u001b[0m \u001b[0mself\u001b[0m\u001b[1;33m.\u001b[0m\u001b[0mexperimental_get_tracing_count\u001b[0m\u001b[1;33m(\u001b[0m\u001b[1;33m)\u001b[0m\u001b[1;33m\u001b[0m\u001b[1;33m\u001b[0m\u001b[0m\n",
      "\u001b[1;32mc:\\users\\tferr\\appdata\\local\\programs\\python\\python39\\lib\\site-packages\\tensorflow\\python\\eager\\def_function.py\u001b[0m in \u001b[0;36m_call\u001b[1;34m(self, *args, **kwds)\u001b[0m\n\u001b[0;32m    915\u001b[0m       \u001b[1;31m# In this case we have created variables on the first call, so we run the\u001b[0m\u001b[1;33m\u001b[0m\u001b[1;33m\u001b[0m\u001b[1;33m\u001b[0m\u001b[0m\n\u001b[0;32m    916\u001b[0m       \u001b[1;31m# defunned version which is guaranteed to never create variables.\u001b[0m\u001b[1;33m\u001b[0m\u001b[1;33m\u001b[0m\u001b[1;33m\u001b[0m\u001b[0m\n\u001b[1;32m--> 917\u001b[1;33m       \u001b[1;32mreturn\u001b[0m \u001b[0mself\u001b[0m\u001b[1;33m.\u001b[0m\u001b[0m_stateless_fn\u001b[0m\u001b[1;33m(\u001b[0m\u001b[1;33m*\u001b[0m\u001b[0margs\u001b[0m\u001b[1;33m,\u001b[0m \u001b[1;33m**\u001b[0m\u001b[0mkwds\u001b[0m\u001b[1;33m)\u001b[0m  \u001b[1;31m# pylint: disable=not-callable\u001b[0m\u001b[1;33m\u001b[0m\u001b[1;33m\u001b[0m\u001b[0m\n\u001b[0m\u001b[0;32m    918\u001b[0m     \u001b[1;32melif\u001b[0m \u001b[0mself\u001b[0m\u001b[1;33m.\u001b[0m\u001b[0m_stateful_fn\u001b[0m \u001b[1;32mis\u001b[0m \u001b[1;32mnot\u001b[0m \u001b[1;32mNone\u001b[0m\u001b[1;33m:\u001b[0m\u001b[1;33m\u001b[0m\u001b[1;33m\u001b[0m\u001b[0m\n\u001b[0;32m    919\u001b[0m       \u001b[1;31m# Release the lock early so that multiple threads can perform the call\u001b[0m\u001b[1;33m\u001b[0m\u001b[1;33m\u001b[0m\u001b[1;33m\u001b[0m\u001b[0m\n",
      "\u001b[1;32mc:\\users\\tferr\\appdata\\local\\programs\\python\\python39\\lib\\site-packages\\tensorflow\\python\\eager\\function.py\u001b[0m in \u001b[0;36m__call__\u001b[1;34m(self, *args, **kwargs)\u001b[0m\n\u001b[0;32m   3021\u001b[0m       (graph_function,\n\u001b[0;32m   3022\u001b[0m        filtered_flat_args) = self._maybe_define_function(args, kwargs)\n\u001b[1;32m-> 3023\u001b[1;33m     return graph_function._call_flat(\n\u001b[0m\u001b[0;32m   3024\u001b[0m         filtered_flat_args, captured_inputs=graph_function.captured_inputs)  # pylint: disable=protected-access\n\u001b[0;32m   3025\u001b[0m \u001b[1;33m\u001b[0m\u001b[0m\n",
      "\u001b[1;32mc:\\users\\tferr\\appdata\\local\\programs\\python\\python39\\lib\\site-packages\\tensorflow\\python\\eager\\function.py\u001b[0m in \u001b[0;36m_call_flat\u001b[1;34m(self, args, captured_inputs, cancellation_manager)\u001b[0m\n\u001b[0;32m   1958\u001b[0m         and executing_eagerly):\n\u001b[0;32m   1959\u001b[0m       \u001b[1;31m# No tape is watching; skip to running the function.\u001b[0m\u001b[1;33m\u001b[0m\u001b[1;33m\u001b[0m\u001b[1;33m\u001b[0m\u001b[0m\n\u001b[1;32m-> 1960\u001b[1;33m       return self._build_call_outputs(self._inference_function.call(\n\u001b[0m\u001b[0;32m   1961\u001b[0m           ctx, args, cancellation_manager=cancellation_manager))\n\u001b[0;32m   1962\u001b[0m     forward_backward = self._select_forward_and_backward_functions(\n",
      "\u001b[1;32mc:\\users\\tferr\\appdata\\local\\programs\\python\\python39\\lib\\site-packages\\tensorflow\\python\\eager\\function.py\u001b[0m in \u001b[0;36mcall\u001b[1;34m(self, ctx, args, cancellation_manager)\u001b[0m\n\u001b[0;32m    589\u001b[0m       \u001b[1;32mwith\u001b[0m \u001b[0m_InterpolateFunctionError\u001b[0m\u001b[1;33m(\u001b[0m\u001b[0mself\u001b[0m\u001b[1;33m)\u001b[0m\u001b[1;33m:\u001b[0m\u001b[1;33m\u001b[0m\u001b[1;33m\u001b[0m\u001b[0m\n\u001b[0;32m    590\u001b[0m         \u001b[1;32mif\u001b[0m \u001b[0mcancellation_manager\u001b[0m \u001b[1;32mis\u001b[0m \u001b[1;32mNone\u001b[0m\u001b[1;33m:\u001b[0m\u001b[1;33m\u001b[0m\u001b[1;33m\u001b[0m\u001b[0m\n\u001b[1;32m--> 591\u001b[1;33m           outputs = execute.execute(\n\u001b[0m\u001b[0;32m    592\u001b[0m               \u001b[0mstr\u001b[0m\u001b[1;33m(\u001b[0m\u001b[0mself\u001b[0m\u001b[1;33m.\u001b[0m\u001b[0msignature\u001b[0m\u001b[1;33m.\u001b[0m\u001b[0mname\u001b[0m\u001b[1;33m)\u001b[0m\u001b[1;33m,\u001b[0m\u001b[1;33m\u001b[0m\u001b[1;33m\u001b[0m\u001b[0m\n\u001b[0;32m    593\u001b[0m               \u001b[0mnum_outputs\u001b[0m\u001b[1;33m=\u001b[0m\u001b[0mself\u001b[0m\u001b[1;33m.\u001b[0m\u001b[0m_num_outputs\u001b[0m\u001b[1;33m,\u001b[0m\u001b[1;33m\u001b[0m\u001b[1;33m\u001b[0m\u001b[0m\n",
      "\u001b[1;32mc:\\users\\tferr\\appdata\\local\\programs\\python\\python39\\lib\\site-packages\\tensorflow\\python\\eager\\execute.py\u001b[0m in \u001b[0;36mquick_execute\u001b[1;34m(op_name, num_outputs, inputs, attrs, ctx, name)\u001b[0m\n\u001b[0;32m     57\u001b[0m   \u001b[1;32mtry\u001b[0m\u001b[1;33m:\u001b[0m\u001b[1;33m\u001b[0m\u001b[1;33m\u001b[0m\u001b[0m\n\u001b[0;32m     58\u001b[0m     \u001b[0mctx\u001b[0m\u001b[1;33m.\u001b[0m\u001b[0mensure_initialized\u001b[0m\u001b[1;33m(\u001b[0m\u001b[1;33m)\u001b[0m\u001b[1;33m\u001b[0m\u001b[1;33m\u001b[0m\u001b[0m\n\u001b[1;32m---> 59\u001b[1;33m     tensors = pywrap_tfe.TFE_Py_Execute(ctx._handle, device_name, op_name,\n\u001b[0m\u001b[0;32m     60\u001b[0m                                         inputs, attrs, num_outputs)\n\u001b[0;32m     61\u001b[0m   \u001b[1;32mexcept\u001b[0m \u001b[0mcore\u001b[0m\u001b[1;33m.\u001b[0m\u001b[0m_NotOkStatusException\u001b[0m \u001b[1;32mas\u001b[0m \u001b[0me\u001b[0m\u001b[1;33m:\u001b[0m\u001b[1;33m\u001b[0m\u001b[1;33m\u001b[0m\u001b[0m\n",
      "\u001b[1;31mKeyboardInterrupt\u001b[0m: "
     ]
    }
   ],
   "source": [
    "history = model.fit(X_train,y_train,epochs = 500 , validation_data = (X_val, y_val))"
   ]
  },
  {
   "cell_type": "code",
   "execution_count": null,
   "id": "greenhouse-contents",
   "metadata": {},
   "outputs": [],
   "source": [
    "acc = history.history['accuracy']\n",
    "val_acc = history.history['val_accuracy']\n",
    "loss = history.history['loss']\n",
    "val_loss = history.history['val_loss']\n",
    "\n",
    "epochs_range = range(500)\n",
    "\n",
    "plt.figure(figsize=(15, 15))\n",
    "plt.subplot(2, 2, 1)\n",
    "plt.plot(epochs_range, acc, label='Training Accuracy')\n",
    "plt.plot(epochs_range, val_acc, label='Validation Accuracy')\n",
    "plt.legend(loc='lower right')\n",
    "plt.title('Training and Validation Accuracy')\n",
    "\n",
    "plt.subplot(2, 2, 2)\n",
    "plt.plot(epochs_range, loss, label='Training Loss')\n",
    "plt.plot(epochs_range, val_loss, label='Validation Loss')\n",
    "plt.legend(loc='upper right')\n",
    "plt.title('Training and Validation Loss')\n",
    "plt.show()"
   ]
  },
  {
   "cell_type": "code",
   "execution_count": null,
   "id": "liked-diary",
   "metadata": {},
   "outputs": [],
   "source": [
    "X_test = X_test.reshape(-1, 28, 28, 1)"
   ]
  },
  {
   "cell_type": "code",
   "execution_count": null,
   "id": "logical-execution",
   "metadata": {},
   "outputs": [],
   "source": [
    "predictions = model.predict_classes(X_test)\n",
    "predictions = predictions.reshape(1,-1)[0]\n",
    "\n",
    "print(classification_report(y_test, predictions, target_names = ['Fake (Class 0)','Real (Class 1)']))"
   ]
  },
  {
   "cell_type": "code",
   "execution_count": null,
   "id": "impaired-candidate",
   "metadata": {},
   "outputs": [],
   "source": [
    "image_path = \"dataset_test/dataset_test\"\n",
    "\n",
    "def loadTestSet(path):\n",
    "    def loadImages(path):\n",
    "        # literalmente dar load das imagens todas para estes arrays\n",
    "        # Listas por compreencao for life <3\n",
    "        images = [image.load_img(image_path+\"/images/\"+file,target_size = (28,28), color_mode='grayscale') for file in sorted(os.listdir(image_path+\"/images\"))]\n",
    "        return images\n",
    "\n",
    "    def imagesToArray(imgs):\n",
    "        return np.array([image.img_to_array(img)[:,:,0] for img in imgs])\n",
    "    \n",
    "    images = loadImages(path)\n",
    "    images_array = imagesToArray(images)\n",
    "    return images_array\n",
    "  \n",
    "test_set = loadTestSet(image_path)"
   ]
  },
  {
   "cell_type": "code",
   "execution_count": null,
   "id": "anticipated-cleveland",
   "metadata": {},
   "outputs": [],
   "source": [
    "test_set = test_set.reshape(-1, 28, 28, 1)\n",
    "predictions = model.predict_classes(test_set)\n",
    "predictions"
   ]
  },
  {
   "cell_type": "code",
   "execution_count": null,
   "id": "cardiac-operations",
   "metadata": {},
   "outputs": [],
   "source": [
    "ids = [img.split(\".\")[0] for img in sorted(os.listdir(\"dataset_test/dataset_test/images\"))]"
   ]
  },
  {
   "cell_type": "code",
   "execution_count": null,
   "id": "broadband-custom",
   "metadata": {},
   "outputs": [],
   "source": [
    "submition = pd.DataFrame((np.array([ids,predictions]).T),columns= [\"Id\",\"Category\"])\n",
    "submition = submition.astype(int).sort_values(\"Id\")\n",
    "submition.to_csv(\"Submition.csv\",index=False)"
   ]
  },
  {
   "cell_type": "code",
   "execution_count": null,
   "id": "biblical-census",
   "metadata": {},
   "outputs": [],
   "source": [
    "model.save('first_model')"
   ]
  },
  {
   "cell_type": "code",
   "execution_count": null,
   "id": "entertaining-atlanta",
   "metadata": {},
   "outputs": [],
   "source": [
    "reconstructed_model = keras.models.load_model(\"first_model\")\n",
    "model.predict_classes(test_set)\n"
   ]
  },
  {
   "cell_type": "markdown",
   "id": "baking-shield",
   "metadata": {},
   "source": [
    "## Model 2 - Fashion MNIST\n",
    "\n",
    "https://github.com/radenjezic153/Stat_ML/blob/master/project.ipynb\n",
    "\n",
    "https://static.googleusercontent.com/media/research.google.com/en//pubs/archive/43022.pdf"
   ]
  },
  {
   "cell_type": "code",
   "execution_count": 3,
   "id": "otherwise-williams",
   "metadata": {},
   "outputs": [
    {
     "name": "stdout",
     "output_type": "stream",
     "text": [
      "Found 40000 files belonging to 2 classes.\n",
      "Using 32000 files for training.\n",
      "Found 40000 files belonging to 2 classes.\n",
      "Using 8000 files for validation.\n",
      "Found 2000 files belonging to 1 classes.\n",
      "['fake', 'real']\n"
     ]
    }
   ],
   "source": [
    "# example of loading the inception v3 model\n",
    "from tensorflow.keras.applications.inception_v3 import InceptionV3\n",
    "from tensorflow.keras.layers.experimental.preprocessing import Resizing\n",
    "from tensorflow.keras.preprocessing import image_dataset_from_directory\n",
    "\n",
    "img_height = 28\n",
    "img_width = 28\n",
    "\n",
    "train_ds = tf.keras.preprocessing.image_dataset_from_directory(\n",
    "    \"C:\\\\Users\\\\tferr\\\\Desktop\\\\ACA\\\\Projeto\\\\Project_Assignment_To_Students\\\\To_Students\\\\dataset_train\\\\dataset\",\n",
    "    validation_split=0.2,\n",
    "    subset=\"training\",\n",
    "    image_size=(img_height, img_width),\n",
    "    color_mode='grayscale',\n",
    "    seed=123\n",
    ")\n",
    "\n",
    "validation_ds = tf.keras.preprocessing.image_dataset_from_directory(\n",
    "    \"C:\\\\Users\\\\tferr\\\\Desktop\\\\ACA\\\\Projeto\\\\Project_Assignment_To_Students\\\\To_Students\\\\dataset_train\\\\dataset\",\n",
    "    validation_split=0.2,\n",
    "    subset=\"validation\",\n",
    "    image_size=(img_height, img_width),\n",
    "    color_mode='grayscale',\n",
    "    seed=123\n",
    ")\n",
    "\n",
    "test_ds = tf.keras.preprocessing.image_dataset_from_directory(\n",
    "    \"C:\\\\Users\\\\tferr\\\\Desktop\\\\ACA\\\\Projeto\\\\Project_Assignment_To_Students\\\\To_Students\\\\dataset_test\\\\dataset_test\",\n",
    "    image_size=(img_height, img_width),\n",
    "    color_mode='grayscale',\n",
    ")\n",
    "\n",
    "print(train_ds.class_names)"
   ]
  },
  {
   "cell_type": "code",
   "execution_count": 9,
   "id": "graphic-sphere",
   "metadata": {},
   "outputs": [
    {
     "name": "stdout",
     "output_type": "stream",
     "text": [
      "Model: \"sequential_3\"\n",
      "_________________________________________________________________\n",
      "Layer (type)                 Output Shape              Param #   \n",
      "=================================================================\n",
      "conv2d_6 (Conv2D)            (None, 26, 26, 28)        280       \n",
      "_________________________________________________________________\n",
      "max_pooling2d_6 (MaxPooling2 (None, 13, 13, 28)        0         \n",
      "_________________________________________________________________\n",
      "conv2d_7 (Conv2D)            (None, 11, 11, 64)        16192     \n",
      "_________________________________________________________________\n",
      "max_pooling2d_7 (MaxPooling2 (None, 5, 5, 64)          0         \n",
      "_________________________________________________________________\n",
      "dropout_2 (Dropout)          (None, 5, 5, 64)          0         \n",
      "_________________________________________________________________\n",
      "flatten_3 (Flatten)          (None, 1600)              0         \n",
      "_________________________________________________________________\n",
      "dense_6 (Dense)              (None, 128)               204928    \n",
      "_________________________________________________________________\n",
      "dense_7 (Dense)              (None, 1)                 129       \n",
      "=================================================================\n",
      "Total params: 221,529\n",
      "Trainable params: 221,529\n",
      "Non-trainable params: 0\n",
      "_________________________________________________________________\n"
     ]
    }
   ],
   "source": [
    "# load model\n",
    "cnn_model = Sequential()\n",
    "cnn_model.add(Conv2D(28, kernel_size=(3, 3), activation='relu', kernel_initializer='he_uniform', input_shape=(28, 28, 1)))\n",
    "cnn_model.add(MaxPool2D())\n",
    "cnn_model.add(Conv2D(64, kernel_size=(3, 3), activation='relu'))\n",
    "cnn_model.add(MaxPool2D())\n",
    "cnn_model.add(Dropout(0.5))\n",
    "cnn_model.add(Flatten())\n",
    "cnn_model.add(Dense(128, activation = 'relu'))\n",
    "cnn_model.add(Dense(1, activation='sigmoid'))\n",
    "cnn_model.compile(loss='binary_crossentropy',\n",
    "                  optimizer='adam',\n",
    "                  metrics=['accuracy'])\n",
    "# summarize the model\n",
    "cnn_model.summary()"
   ]
  },
  {
   "cell_type": "code",
   "execution_count": 10,
   "id": "buried-membrane",
   "metadata": {
    "scrolled": true
   },
   "outputs": [
    {
     "name": "stdout",
     "output_type": "stream",
     "text": [
      "Epoch 1/100\n",
      "1000/1000 [==============================] - 34s 33ms/step - loss: 1.7063 - accuracy: 0.5642 - val_loss: 0.6246 - val_accuracy: 0.6254\n",
      "Epoch 2/100\n",
      "1000/1000 [==============================] - 39s 39ms/step - loss: 0.5969 - accuracy: 0.6389 - val_loss: 0.5274 - val_accuracy: 0.6914\n",
      "Epoch 3/100\n",
      "1000/1000 [==============================] - 37s 37ms/step - loss: 0.5487 - accuracy: 0.6697 - val_loss: 0.4900 - val_accuracy: 0.7136\n",
      "Epoch 4/100\n",
      "1000/1000 [==============================] - 36s 36ms/step - loss: 0.5236 - accuracy: 0.6868 - val_loss: 0.4740 - val_accuracy: 0.7169\n",
      "Epoch 5/100\n",
      "1000/1000 [==============================] - 35s 35ms/step - loss: 0.5033 - accuracy: 0.7003 - val_loss: 0.4511 - val_accuracy: 0.7308\n",
      "Epoch 6/100\n",
      "1000/1000 [==============================] - 34s 34ms/step - loss: 0.4836 - accuracy: 0.7166 - val_loss: 0.4481 - val_accuracy: 0.7331\n",
      "Epoch 7/100\n",
      "1000/1000 [==============================] - 37s 37ms/step - loss: 0.4664 - accuracy: 0.7278 - val_loss: 0.4144 - val_accuracy: 0.7584\n",
      "Epoch 8/100\n",
      "1000/1000 [==============================] - 36s 36ms/step - loss: 0.4425 - accuracy: 0.7416 - val_loss: 0.3887 - val_accuracy: 0.7786\n",
      "Epoch 9/100\n",
      "1000/1000 [==============================] - 35s 35ms/step - loss: 0.4270 - accuracy: 0.7500 - val_loss: 0.3840 - val_accuracy: 0.7768\n",
      "Epoch 10/100\n",
      "1000/1000 [==============================] - 33s 33ms/step - loss: 0.4167 - accuracy: 0.7577 - val_loss: 0.3651 - val_accuracy: 0.7903\n",
      "Epoch 11/100\n",
      "1000/1000 [==============================] - 32s 32ms/step - loss: 0.4029 - accuracy: 0.7651 - val_loss: 0.3635 - val_accuracy: 0.7904\n",
      "Epoch 12/100\n",
      "1000/1000 [==============================] - 32s 32ms/step - loss: 0.3913 - accuracy: 0.7741 - val_loss: 0.3443 - val_accuracy: 0.7987\n",
      "Epoch 13/100\n",
      "1000/1000 [==============================] - 32s 32ms/step - loss: 0.3743 - accuracy: 0.7871 - val_loss: 0.3341 - val_accuracy: 0.8131\n",
      "Epoch 14/100\n",
      "1000/1000 [==============================] - 32s 32ms/step - loss: 0.3611 - accuracy: 0.7956 - val_loss: 0.3266 - val_accuracy: 0.8295\n",
      "Epoch 15/100\n",
      "1000/1000 [==============================] - 33s 33ms/step - loss: 0.3470 - accuracy: 0.8037 - val_loss: 0.3012 - val_accuracy: 0.8380\n",
      "Epoch 16/100\n",
      "1000/1000 [==============================] - 37s 36ms/step - loss: 0.3323 - accuracy: 0.8147 - val_loss: 0.2965 - val_accuracy: 0.8410\n",
      "Epoch 17/100\n",
      "1000/1000 [==============================] - 34s 34ms/step - loss: 0.3169 - accuracy: 0.8225 - val_loss: 0.2836 - val_accuracy: 0.8431\n",
      "Epoch 18/100\n",
      "1000/1000 [==============================] - 38s 37ms/step - loss: 0.3099 - accuracy: 0.8282 - val_loss: 0.2700 - val_accuracy: 0.8505\n",
      "Epoch 19/100\n",
      "1000/1000 [==============================] - 37s 37ms/step - loss: 0.2990 - accuracy: 0.8354 - val_loss: 0.2632 - val_accuracy: 0.8711\n",
      "Epoch 20/100\n",
      "1000/1000 [==============================] - 34s 34ms/step - loss: 0.2821 - accuracy: 0.8469 - val_loss: 0.2510 - val_accuracy: 0.8644\n",
      "Epoch 21/100\n",
      "1000/1000 [==============================] - 33s 33ms/step - loss: 0.2718 - accuracy: 0.8529 - val_loss: 0.2430 - val_accuracy: 0.8681\n",
      "Epoch 22/100\n",
      "1000/1000 [==============================] - 35s 35ms/step - loss: 0.2671 - accuracy: 0.8541 - val_loss: 0.2297 - val_accuracy: 0.8746\n",
      "Epoch 23/100\n",
      "1000/1000 [==============================] - 35s 35ms/step - loss: 0.2558 - accuracy: 0.8603 - val_loss: 0.2233 - val_accuracy: 0.8765\n",
      "Epoch 24/100\n",
      "1000/1000 [==============================] - 36s 36ms/step - loss: 0.2499 - accuracy: 0.8683 - val_loss: 0.2209 - val_accuracy: 0.8950\n",
      "Epoch 25/100\n",
      "1000/1000 [==============================] - 34s 34ms/step - loss: 0.2385 - accuracy: 0.8779 - val_loss: 0.2133 - val_accuracy: 0.9006\n",
      "Epoch 26/100\n",
      "1000/1000 [==============================] - 33s 33ms/step - loss: 0.2316 - accuracy: 0.8804 - val_loss: 0.1985 - val_accuracy: 0.9089\n",
      "Epoch 27/100\n",
      "1000/1000 [==============================] - 33s 33ms/step - loss: 0.2296 - accuracy: 0.8860 - val_loss: 0.2101 - val_accuracy: 0.9024\n",
      "Epoch 28/100\n",
      "1000/1000 [==============================] - 34s 34ms/step - loss: 0.2226 - accuracy: 0.8906 - val_loss: 0.1895 - val_accuracy: 0.9080\n",
      "Epoch 29/100\n",
      "1000/1000 [==============================] - 33s 33ms/step - loss: 0.2116 - accuracy: 0.8984 - val_loss: 0.1833 - val_accuracy: 0.9195\n",
      "Epoch 30/100\n",
      "1000/1000 [==============================] - 32s 32ms/step - loss: 0.2098 - accuracy: 0.8966 - val_loss: 0.1939 - val_accuracy: 0.9068\n",
      "Epoch 31/100\n",
      "1000/1000 [==============================] - 32s 32ms/step - loss: 0.2033 - accuracy: 0.9004 - val_loss: 0.1694 - val_accuracy: 0.9276\n",
      "Epoch 32/100\n",
      "1000/1000 [==============================] - 32s 32ms/step - loss: 0.1983 - accuracy: 0.9027 - val_loss: 0.1756 - val_accuracy: 0.9202\n",
      "Epoch 33/100\n",
      "1000/1000 [==============================] - 32s 32ms/step - loss: 0.1882 - accuracy: 0.9086 - val_loss: 0.1638 - val_accuracy: 0.9236\n",
      "Epoch 34/100\n",
      "1000/1000 [==============================] - 32s 32ms/step - loss: 0.1861 - accuracy: 0.9082 - val_loss: 0.1522 - val_accuracy: 0.9344\n",
      "Epoch 35/100\n",
      "1000/1000 [==============================] - 32s 32ms/step - loss: 0.1758 - accuracy: 0.9147 - val_loss: 0.1620 - val_accuracy: 0.9323\n",
      "Epoch 36/100\n",
      "1000/1000 [==============================] - 32s 32ms/step - loss: 0.1677 - accuracy: 0.9237 - val_loss: 0.1437 - val_accuracy: 0.9411\n",
      "Epoch 37/100\n",
      "1000/1000 [==============================] - 32s 32ms/step - loss: 0.1648 - accuracy: 0.9251 - val_loss: 0.1468 - val_accuracy: 0.9365\n",
      "Epoch 38/100\n",
      "1000/1000 [==============================] - 37s 37ms/step - loss: 0.1605 - accuracy: 0.9280 - val_loss: 0.1428 - val_accuracy: 0.9438\n",
      "Epoch 39/100\n",
      "1000/1000 [==============================] - 108s 108ms/step - loss: 0.1565 - accuracy: 0.9309 - val_loss: 0.1330 - val_accuracy: 0.9445\n",
      "Epoch 40/100\n",
      "1000/1000 [==============================] - 34s 34ms/step - loss: 0.1509 - accuracy: 0.9342 - val_loss: 0.1341 - val_accuracy: 0.9426\n",
      "Epoch 41/100\n",
      "1000/1000 [==============================] - 30s 30ms/step - loss: 0.1513 - accuracy: 0.9350 - val_loss: 0.1318 - val_accuracy: 0.9479\n",
      "Epoch 42/100\n",
      "1000/1000 [==============================] - 30s 30ms/step - loss: 0.1470 - accuracy: 0.9368 - val_loss: 0.1233 - val_accuracy: 0.9496\n",
      "Epoch 43/100\n",
      "1000/1000 [==============================] - 30s 30ms/step - loss: 0.1412 - accuracy: 0.9364 - val_loss: 0.1172 - val_accuracy: 0.9546\n",
      "Epoch 44/100\n",
      "1000/1000 [==============================] - 31s 31ms/step - loss: 0.1415 - accuracy: 0.9407 - val_loss: 0.1205 - val_accuracy: 0.9548\n",
      "Epoch 45/100\n",
      "1000/1000 [==============================] - 30s 30ms/step - loss: 0.1352 - accuracy: 0.9425 - val_loss: 0.1388 - val_accuracy: 0.9440\n",
      "Epoch 46/100\n",
      "1000/1000 [==============================] - 30s 30ms/step - loss: 0.1315 - accuracy: 0.9439 - val_loss: 0.1236 - val_accuracy: 0.9501\n",
      "Epoch 47/100\n",
      "1000/1000 [==============================] - 31s 31ms/step - loss: 0.1308 - accuracy: 0.9449 - val_loss: 0.1217 - val_accuracy: 0.9529\n",
      "Epoch 48/100\n",
      "1000/1000 [==============================] - 31s 31ms/step - loss: 0.1305 - accuracy: 0.9448 - val_loss: 0.1188 - val_accuracy: 0.9544\n",
      "Epoch 49/100\n",
      "1000/1000 [==============================] - 31s 31ms/step - loss: 0.1307 - accuracy: 0.9455 - val_loss: 0.1116 - val_accuracy: 0.9578\n",
      "Epoch 50/100\n",
      "1000/1000 [==============================] - 37s 37ms/step - loss: 0.1265 - accuracy: 0.9477 - val_loss: 0.1057 - val_accuracy: 0.9589\n",
      "Epoch 51/100\n",
      "1000/1000 [==============================] - 31s 31ms/step - loss: 0.1216 - accuracy: 0.9490 - val_loss: 0.1172 - val_accuracy: 0.9520\n",
      "Epoch 52/100\n",
      "1000/1000 [==============================] - 31s 31ms/step - loss: 0.1203 - accuracy: 0.9502 - val_loss: 0.1085 - val_accuracy: 0.9584\n",
      "Epoch 53/100\n",
      "1000/1000 [==============================] - 31s 31ms/step - loss: 0.1180 - accuracy: 0.9498 - val_loss: 0.1026 - val_accuracy: 0.9592\n",
      "Epoch 54/100\n",
      "1000/1000 [==============================] - 31s 31ms/step - loss: 0.1168 - accuracy: 0.9525 - val_loss: 0.1140 - val_accuracy: 0.9526\n",
      "Epoch 55/100\n",
      "1000/1000 [==============================] - 31s 31ms/step - loss: 0.1144 - accuracy: 0.9546 - val_loss: 0.1010 - val_accuracy: 0.9614\n",
      "Epoch 56/100\n"
     ]
    },
    {
     "name": "stdout",
     "output_type": "stream",
     "text": [
      "1000/1000 [==============================] - 31s 31ms/step - loss: 0.1053 - accuracy: 0.9561 - val_loss: 0.1042 - val_accuracy: 0.9643\n",
      "Epoch 57/100\n",
      "1000/1000 [==============================] - 31s 31ms/step - loss: 0.1111 - accuracy: 0.9553 - val_loss: 0.0977 - val_accuracy: 0.9625\n",
      "Epoch 58/100\n",
      "1000/1000 [==============================] - 31s 31ms/step - loss: 0.1088 - accuracy: 0.9567 - val_loss: 0.0968 - val_accuracy: 0.9638\n",
      "Epoch 59/100\n",
      "1000/1000 [==============================] - 31s 31ms/step - loss: 0.1004 - accuracy: 0.9595 - val_loss: 0.0892 - val_accuracy: 0.9660\n",
      "Epoch 60/100\n",
      "1000/1000 [==============================] - 31s 31ms/step - loss: 0.1009 - accuracy: 0.9599 - val_loss: 0.0914 - val_accuracy: 0.9647\n",
      "Epoch 61/100\n",
      "1000/1000 [==============================] - 31s 30ms/step - loss: 0.1005 - accuracy: 0.9613 - val_loss: 0.0961 - val_accuracy: 0.9650\n",
      "Epoch 62/100\n",
      "1000/1000 [==============================] - 31s 31ms/step - loss: 0.1008 - accuracy: 0.9603 - val_loss: 0.0884 - val_accuracy: 0.9661\n",
      "Epoch 63/100\n",
      "1000/1000 [==============================] - 31s 31ms/step - loss: 0.1003 - accuracy: 0.9612 - val_loss: 0.0897 - val_accuracy: 0.9665\n",
      "Epoch 64/100\n",
      "1000/1000 [==============================] - 31s 31ms/step - loss: 0.0969 - accuracy: 0.9618 - val_loss: 0.0935 - val_accuracy: 0.9661\n",
      "Epoch 65/100\n",
      "1000/1000 [==============================] - 31s 31ms/step - loss: 0.0901 - accuracy: 0.9652 - val_loss: 0.0898 - val_accuracy: 0.9672\n",
      "Epoch 66/100\n",
      "1000/1000 [==============================] - 31s 31ms/step - loss: 0.0941 - accuracy: 0.9633 - val_loss: 0.0813 - val_accuracy: 0.9703\n",
      "Epoch 67/100\n",
      "1000/1000 [==============================] - 31s 31ms/step - loss: 0.0948 - accuracy: 0.9625 - val_loss: 0.0866 - val_accuracy: 0.9676\n",
      "Epoch 68/100\n",
      "1000/1000 [==============================] - 31s 31ms/step - loss: 0.0913 - accuracy: 0.9649 - val_loss: 0.0963 - val_accuracy: 0.9651\n",
      "Epoch 69/100\n",
      "1000/1000 [==============================] - 32s 32ms/step - loss: 0.0909 - accuracy: 0.9647 - val_loss: 0.0933 - val_accuracy: 0.9654\n",
      "Epoch 70/100\n",
      "1000/1000 [==============================] - 31s 31ms/step - loss: 0.0871 - accuracy: 0.9666 - val_loss: 0.0979 - val_accuracy: 0.9655\n",
      "Epoch 71/100\n",
      "1000/1000 [==============================] - 32s 32ms/step - loss: 0.0947 - accuracy: 0.9641 - val_loss: 0.0872 - val_accuracy: 0.9680\n",
      "Epoch 72/100\n",
      "1000/1000 [==============================] - 32s 31ms/step - loss: 0.0871 - accuracy: 0.9663 - val_loss: 0.0799 - val_accuracy: 0.9730\n",
      "Epoch 73/100\n",
      "1000/1000 [==============================] - 31s 31ms/step - loss: 0.0860 - accuracy: 0.9675 - val_loss: 0.0825 - val_accuracy: 0.9701\n",
      "Epoch 74/100\n",
      "1000/1000 [==============================] - 31s 31ms/step - loss: 0.0865 - accuracy: 0.9671 - val_loss: 0.0939 - val_accuracy: 0.9651\n",
      "Epoch 75/100\n",
      "1000/1000 [==============================] - 31s 31ms/step - loss: 0.0855 - accuracy: 0.9673 - val_loss: 0.0909 - val_accuracy: 0.9675\n",
      "Epoch 76/100\n",
      "1000/1000 [==============================] - 31s 31ms/step - loss: 0.0884 - accuracy: 0.9681 - val_loss: 0.0971 - val_accuracy: 0.9664\n",
      "Epoch 77/100\n",
      "1000/1000 [==============================] - 31s 31ms/step - loss: 0.0799 - accuracy: 0.9693 - val_loss: 0.0893 - val_accuracy: 0.9691\n",
      "Epoch 78/100\n",
      "1000/1000 [==============================] - 31s 31ms/step - loss: 0.0834 - accuracy: 0.9686 - val_loss: 0.0820 - val_accuracy: 0.9725\n",
      "Epoch 79/100\n",
      "1000/1000 [==============================] - 31s 31ms/step - loss: 0.0817 - accuracy: 0.9703 - val_loss: 0.0920 - val_accuracy: 0.9684\n",
      "Epoch 80/100\n",
      "1000/1000 [==============================] - 31s 31ms/step - loss: 0.0763 - accuracy: 0.9712 - val_loss: 0.0781 - val_accuracy: 0.9730\n",
      "Epoch 81/100\n",
      "1000/1000 [==============================] - 31s 31ms/step - loss: 0.0803 - accuracy: 0.9691 - val_loss: 0.0745 - val_accuracy: 0.9755\n",
      "Epoch 82/100\n",
      "1000/1000 [==============================] - 31s 31ms/step - loss: 0.0794 - accuracy: 0.9707 - val_loss: 0.0786 - val_accuracy: 0.9743\n",
      "Epoch 83/100\n",
      "1000/1000 [==============================] - 32s 32ms/step - loss: 0.0721 - accuracy: 0.9720 - val_loss: 0.0811 - val_accuracy: 0.9737\n",
      "Epoch 84/100\n",
      "1000/1000 [==============================] - 31s 31ms/step - loss: 0.0761 - accuracy: 0.9707 - val_loss: 0.0768 - val_accuracy: 0.9731\n",
      "Epoch 85/100\n",
      "1000/1000 [==============================] - 31s 31ms/step - loss: 0.0805 - accuracy: 0.9694 - val_loss: 0.0814 - val_accuracy: 0.9715\n",
      "Epoch 86/100\n",
      "1000/1000 [==============================] - 31s 31ms/step - loss: 0.0738 - accuracy: 0.9712 - val_loss: 0.0819 - val_accuracy: 0.9707\n",
      "Epoch 87/100\n",
      "1000/1000 [==============================] - 31s 31ms/step - loss: 0.0746 - accuracy: 0.9716 - val_loss: 0.0767 - val_accuracy: 0.9749\n",
      "Epoch 88/100\n",
      "1000/1000 [==============================] - 33s 33ms/step - loss: 0.0753 - accuracy: 0.9725 - val_loss: 0.0809 - val_accuracy: 0.9724\n",
      "Epoch 89/100\n",
      "1000/1000 [==============================] - 32s 32ms/step - loss: 0.0740 - accuracy: 0.9723 - val_loss: 0.0839 - val_accuracy: 0.9720\n",
      "Epoch 90/100\n",
      "1000/1000 [==============================] - 32s 32ms/step - loss: 0.0702 - accuracy: 0.9735 - val_loss: 0.0707 - val_accuracy: 0.9760\n",
      "Epoch 91/100\n",
      "1000/1000 [==============================] - 33s 33ms/step - loss: 0.0722 - accuracy: 0.9730 - val_loss: 0.0823 - val_accuracy: 0.9730\n",
      "Epoch 92/100\n",
      "1000/1000 [==============================] - 31s 31ms/step - loss: 0.0680 - accuracy: 0.9738 - val_loss: 0.0747 - val_accuracy: 0.9754\n",
      "Epoch 93/100\n",
      "1000/1000 [==============================] - 31s 31ms/step - loss: 0.0712 - accuracy: 0.9735 - val_loss: 0.0754 - val_accuracy: 0.9730\n",
      "Epoch 94/100\n",
      "1000/1000 [==============================] - 31s 31ms/step - loss: 0.0705 - accuracy: 0.9731 - val_loss: 0.0778 - val_accuracy: 0.9746\n",
      "Epoch 95/100\n",
      "1000/1000 [==============================] - 31s 31ms/step - loss: 0.0725 - accuracy: 0.9743 - val_loss: 0.0753 - val_accuracy: 0.9741\n",
      "Epoch 96/100\n",
      "1000/1000 [==============================] - 31s 31ms/step - loss: 0.0682 - accuracy: 0.9738 - val_loss: 0.0842 - val_accuracy: 0.9709\n",
      "Epoch 97/100\n",
      "1000/1000 [==============================] - 32s 32ms/step - loss: 0.0673 - accuracy: 0.9747 - val_loss: 0.0721 - val_accuracy: 0.9762\n",
      "Epoch 98/100\n",
      "1000/1000 [==============================] - 2192s 2s/step - loss: 0.0697 - accuracy: 0.9739 - val_loss: 0.0842 - val_accuracy: 0.9711\n",
      "Epoch 99/100\n",
      "1000/1000 [==============================] - 30s 30ms/step - loss: 0.0715 - accuracy: 0.9741 - val_loss: 0.0841 - val_accuracy: 0.9724\n",
      "Epoch 100/100\n",
      "1000/1000 [==============================] - 29s 29ms/step - loss: 0.0704 - accuracy: 0.9729 - val_loss: 0.0821 - val_accuracy: 0.9734\n"
     ]
    }
   ],
   "source": [
    "n_epochs = 100\n",
    "\n",
    "cnn_model_training = cnn_model.fit(\n",
    "    train_ds,\n",
    "    epochs=n_epochs,\n",
    "    validation_data=validation_ds\n",
    ")"
   ]
  },
  {
   "cell_type": "code",
   "execution_count": 12,
   "id": "sized-positive",
   "metadata": {},
   "outputs": [
    {
     "data": {
      "image/png": "[encoded data removed]",
      "text/plain": [
       "<Figure size 432x288 with 1 Axes>"
      ]
     },
     "metadata": {
      "needs_background": "light"
     },
     "output_type": "display_data"
    },
    {
     "data": {
      "image/png": "[encoded data removed]",
      "text/plain": [
       "<Figure size 432x288 with 1 Axes>"
      ]
     },
     "metadata": {
      "needs_background": "light"
     },
     "output_type": "display_data"
    }
   ],
   "source": [
    "# print(cnn_model_training.history)\n",
    "\n",
    "cnn_accuracy     = cnn_model_training.history['accuracy']\n",
    "cnn_val_accuracy = cnn_model_training.history['val_accuracy']\n",
    "loss             = cnn_model_training.history['loss'] \n",
    "val_loss         = cnn_model_training.history['val_loss']\n",
    "epochs = [i for i in range (n_epochs)]\n",
    "\n",
    "plt.plot(epochs, cnn_accuracy, 'b--', label='Test accuracy')\n",
    "plt.plot(epochs, cnn_val_accuracy, 'r', label='Validation accuracy')\n",
    "plt.title('Training and validation accuracy')\n",
    "plt.savefig(f'Accuracy values Model Tiago - {n_epochs} epochs')\n",
    "plt.legend()\n",
    "\n",
    "plt.figure()\n",
    "plt.plot(epochs, loss, 'b--', label = 'Training loss')\n",
    "plt.plot(epochs, val_loss, 'r', label = 'Validation loss')\n",
    "plt.title('Training and validation loss')\n",
    "plt.legend()\n",
    "plt.savefig(f'Loss values Model Tiago - {n_epochs} epochs')\n",
    "plt.show()"
   ]
  },
  {
   "cell_type": "code",
   "execution_count": 13,
   "id": "earlier-closer",
   "metadata": {},
   "outputs": [
    {
     "name": "stdout",
     "output_type": "stream",
     "text": [
      "63/63 [==============================] - 1s 16ms/step - loss: 18.2094 - accuracy: 0.5160\n",
      "The accuracy of CNN is equal to : 0.515999972820282\n"
     ]
    }
   ],
   "source": [
    "accuracy = cnn_model.evaluate(test_ds)\n",
    "print('The accuracy of CNN is equal to : ' + str(accuracy[1]))"
   ]
  },
  {
   "cell_type": "code",
   "execution_count": 20,
   "id": "floating-friday",
   "metadata": {},
   "outputs": [
    {
     "name": "stdout",
     "output_type": "stream",
     "text": [
      "INFO:tensorflow:Assets written to: model_2\\assets\n"
     ]
    }
   ],
   "source": [
    "cnn_model.save('model_2')"
   ]
  }
 ],
 "metadata": {
  "kernelspec": {
   "display_name": "Python 3",
   "language": "python",
   "name": "python3"
  },
  "language_info": {
   "codemirror_mode": {
    "name": "ipython",
    "version": 3
   },
   "file_extension": ".py",
   "mimetype": "text/x-python",
   "name": "python",
   "nbconvert_exporter": "python",
   "pygments_lexer": "ipython3",
   "version": "3.9.2"
  }
 },
 "nbformat": 4,
 "nbformat_minor": 5
}
