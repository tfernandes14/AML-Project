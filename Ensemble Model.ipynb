{
 "cells": [
  {
   "cell_type": "markdown",
   "id": "formal-palmer",
   "metadata": {
    "id": "formal-palmer"
   },
   "source": [
    "# Load Libraries"
   ]
  },
  {
   "cell_type": "code",
   "execution_count": 1,
   "id": "indian-calendar",
   "metadata": {
    "colab": {
     "base_uri": "https://localhost:8080/"
    },
    "executionInfo": {
     "elapsed": 7190,
     "status": "ok",
     "timestamp": 1620316010186,
     "user": {
      "displayName": "Miguel Marques",
      "photoUrl": "https://lh3.googleusercontent.com/a-/AOh14GgxI4tbibdSB-1GNL3pUyRpvdf4mjk4ad6sMxNQeg=s64",
      "userId": "04941611119444813601"
     },
     "user_tz": -60
    },
    "id": "indian-calendar",
    "outputId": "938cdc53-533a-491a-9da0-f93a4d3a6ce9"
   },
   "outputs": [],
   "source": [
    "import matplotlib.pyplot as plt\n",
    "import seaborn as sns\n",
    "\n",
    "import keras\n",
    "from keras.models import Sequential\n",
    "from keras.layers import Dense, Conv2D ,MaxPooling2D, MaxPool2D , Flatten , Dropout \n",
    "from keras.preprocessing.image import ImageDataGenerator\n",
    "from keras.optimizers import Adam\n",
    "from keras.layers. normalization import BatchNormalization\n",
    "from keras.models import Sequential\n",
    "\n",
    "\n",
    "from sklearn.metrics import classification_report,confusion_matrix\n",
    "\n",
    "import tensorflow as tf\n",
    "\n",
    "import cv2\n",
    "import os\n",
    "\n",
    "from tensorflow.keras.preprocessing import image\n",
    "from sklearn.model_selection import train_test_split\n",
    "\n",
    "import numpy as np\n",
    "\n",
    "import pandas as pd\n",
    "\n",
    "image_path = \"dataset_train/dataset/\"\n",
    "#!unzip dataset_train.zip\n",
    "%matplotlib inline\n"
   ]
  },
  {
   "cell_type": "markdown",
   "id": "agricultural-gentleman",
   "metadata": {
    "id": "agricultural-gentleman"
   },
   "source": [
    "# Load Data"
   ]
  },
  {
   "cell_type": "code",
   "execution_count": 2,
   "id": "irish-straight",
   "metadata": {
    "colab": {
     "base_uri": "https://localhost:8080/"
    },
    "executionInfo": {
     "elapsed": 12715,
     "status": "ok",
     "timestamp": 1620316016821,
     "user": {
      "displayName": "Miguel Marques",
      "photoUrl": "https://lh3.googleusercontent.com/a-/AOh14GgxI4tbibdSB-1GNL3pUyRpvdf4mjk4ad6sMxNQeg=s64",
      "userId": "04941611119444813601"
     },
     "user_tz": -60
    },
    "id": "irish-straight",
    "outputId": "95291602-a45f-4dfc-8550-1884cbd3b712"
   },
   "outputs": [
    {
     "data": {
      "text/plain": [
       "(20000, 20000)"
      ]
     },
     "execution_count": 2,
     "metadata": {},
     "output_type": "execute_result"
    }
   ],
   "source": [
    "def loadDataSet(path):\n",
    "    def loadImages(path):\n",
    "        # literalmente dar load das imagens todas para estes arrays\n",
    "        # Listas por compreencao for life <3\n",
    "        real = [image.load_img(image_path+\"real/\"+file,target_size = (28,28), color_mode='grayscale') for file in os.listdir(image_path+\"real\")]\n",
    "        fake = [image.load_img(image_path+\"fake/\"+file,target_size = (28,28), color_mode='grayscale') for file in os.listdir(image_path+\"/fake\")]\n",
    "        return real,fake\n",
    "\n",
    "    def imagesToArray(imgs):\n",
    "        return np.array([image.img_to_array(img)[:,:,0] for img in imgs])\n",
    "    \n",
    "    real,fake = loadImages(path)\n",
    "    real_array = imagesToArray(real)\n",
    "    fake_array = imagesToArray(fake)\n",
    "    return real_array,fake_array\n",
    "  \n",
    "real,fake = loadDataSet(image_path)\n",
    "len(real),len(fake)"
   ]
  },
  {
   "cell_type": "markdown",
   "id": "union-revolution",
   "metadata": {
    "id": "union-revolution"
   },
   "source": [
    "# Train Val Test"
   ]
  },
  {
   "cell_type": "code",
   "execution_count": 3,
   "id": "modified-tracy",
   "metadata": {
    "colab": {
     "base_uri": "https://localhost:8080/"
    },
    "executionInfo": {
     "elapsed": 10932,
     "status": "ok",
     "timestamp": 1620316016824,
     "user": {
      "displayName": "Miguel Marques",
      "photoUrl": "https://lh3.googleusercontent.com/a-/AOh14GgxI4tbibdSB-1GNL3pUyRpvdf4mjk4ad6sMxNQeg=s64",
      "userId": "04941611119444813601"
     },
     "user_tz": -60
    },
    "id": "modified-tracy",
    "outputId": "d2296978-2802-44c8-89f1-04d1df64ebbe"
   },
   "outputs": [
    {
     "name": "stdout",
     "output_type": "stream",
     "text": [
      "Train -> 24000 [60.0%] \n",
      "Val   -> 8000 [20.0%] \n",
      "Test  -> 8000 [20.0%] \n"
     ]
    }
   ],
   "source": [
    "X = np.append(real,fake,axis=0)\n",
    "y = np.append(np.ones((20000,1)),np.zeros((20000,1)))\n",
    "X_train, X_val, y_train, y_val = train_test_split(X, y, test_size=0.4, random_state=13)\n",
    "X_test, X_val, y_test, y_val = train_test_split(X_val, y_val, test_size=0.5, random_state=13)\n",
    "print(\"Train -> {} [{}%] \".format(len(y_train),len(y_train)/40000*100))\n",
    "print(\"Val   -> {} [{}%] \".format(len(y_val),len(y_val)/40000*100))\n",
    "print(\"Test  -> {} [{}%] \".format(len(y_test),len(y_test)/40000*100))\n"
   ]
  },
  {
   "cell_type": "code",
   "execution_count": 4,
   "id": "clean-medicaid",
   "metadata": {
    "colab": {
     "base_uri": "https://localhost:8080/",
     "height": 281
    },
    "executionInfo": {
     "elapsed": 809,
     "status": "ok",
     "timestamp": 1620316160566,
     "user": {
      "displayName": "Miguel Marques",
      "photoUrl": "https://lh3.googleusercontent.com/a-/AOh14GgxI4tbibdSB-1GNL3pUyRpvdf4mjk4ad6sMxNQeg=s64",
      "userId": "04941611119444813601"
     },
     "user_tz": -60
    },
    "id": "clean-medicaid",
    "outputId": "7340b38b-cea5-427f-8cdb-48d4bace2edc"
   },
   "outputs": [
    {
     "data": {
      "image/png": "[encoded data removed]",
      "text/plain": [
       "<Figure size 432x288 with 1 Axes>"
      ]
     },
     "metadata": {
      "needs_background": "light"
     },
     "output_type": "display_data"
    }
   ],
   "source": [
    "_, frequency_train = np.unique(y_train, return_counts = True)\n",
    "_, frequency_val = np.unique(y_val, return_counts = True)\n",
    "_, frequency_test = np.unique(y_test, return_counts = True)\n",
    "\n",
    "plt.bar([\"Fake\",\"Real\"], frequency_train,label ='Train',color=\"#C97064\")\n",
    "plt.bar([\"Fake\",\"Real\"], frequency_val,label ='Validation',color=\"#BCA371\",bottom=frequency_train)\n",
    "plt.bar([\"Fake\",\"Real\"], frequency_test,label ='Test',color=\"#32965D\",bottom=np.add(frequency_train, frequency_test))\n",
    "plt.legend()\n",
    "plt.title(\"Train Val Test - Distribution\")\n",
    "plt.show()\n",
    "X_train = X_train.reshape(-1, 28, 28, 1)\n",
    "X_val = X_val.reshape(-1, 28, 28, 1)"
   ]
  },
  {
   "cell_type": "code",
   "execution_count": 5,
   "id": "wireless-belarus",
   "metadata": {},
   "outputs": [],
   "source": [
    "from sklearn.preprocessing import LabelEncoder\n",
    "from sklearn.preprocessing import MinMaxScaler\n",
    "import numpy as np\n",
    "import cv2\n",
    "import os\n",
    "import h5py"
   ]
  },
  {
   "cell_type": "code",
   "execution_count": 6,
   "id": "union-upper",
   "metadata": {},
   "outputs": [],
   "source": [
    "# Feature Extraction\n",
    "\n",
    "def fd_hu_moments(image):\n",
    "    feature = cv2.HuMoments(cv2.moments(image)).flatten()\n",
    "    return feature\n",
    "def fd_histogram(image):\n",
    "    # compute the color histogram\n",
    "    hist  = cv2.calcHist([image],  [0], None, [256], [0, 256])\n",
    "    # normalize the histogram\n",
    "    cv2.normalize(hist, hist)\n",
    "    # return the histogram\n",
    "    return hist.flatten()\n",
    "\n",
    "\n",
    "def fill_features(x):\n",
    "    x_features = []\n",
    "    for img in x:\n",
    "        \n",
    "        hu_moment = fd_hu_moments(img)\n",
    "        histogram = fd_histogram(img)\n",
    "        x_features.append(np.hstack([hu_moment, histogram]))\n",
    "    return x_features\n",
    "X_train_features = fill_features(X_train)"
   ]
  },
  {
   "cell_type": "markdown",
   "id": "traditional-ireland",
   "metadata": {},
   "source": [
    "## Models for the Ensemble"
   ]
  },
  {
   "cell_type": "code",
   "execution_count": 7,
   "id": "spatial-lucas",
   "metadata": {},
   "outputs": [],
   "source": [
    "import warnings\n",
    "\n",
    "from matplotlib import pyplot\n",
    "from sklearn.model_selection import train_test_split, cross_val_score\n",
    "from sklearn.model_selection import KFold, StratifiedKFold\n",
    "from sklearn.metrics import confusion_matrix, accuracy_score, classification_report\n",
    "from sklearn.linear_model import LogisticRegression\n",
    "from sklearn.tree import DecisionTreeClassifier\n",
    "from sklearn.ensemble import RandomForestClassifier\n",
    "from sklearn.neighbors import KNeighborsClassifier\n",
    "from sklearn.discriminant_analysis import LinearDiscriminantAnalysis\n",
    "from sklearn.naive_bayes import GaussianNB\n",
    "from sklearn.svm import SVC\n",
    "\n",
    "num_trees = 100\n",
    "test_size = 0.10\n",
    "seed      = 9\n",
    "scoring    = \"accuracy\"\n",
    "warnings.filterwarnings('ignore')\n"
   ]
  },
  {
   "cell_type": "code",
   "execution_count": 8,
   "id": "straight-holmes",
   "metadata": {},
   "outputs": [],
   "source": [
    "models = []\n",
    "models.append(('LR', LogisticRegression(random_state=seed)))\n",
    "models.append(('KNN', KNeighborsClassifier()))\n",
    "models.append(('DT', DecisionTreeClassifier(random_state=seed)))\n",
    "models.append(('RF', RandomForestClassifier(n_estimators=num_trees, random_state=seed)))\n",
    "models.append(('NB', GaussianNB()))\n",
    "models.append(('SVM', SVC(random_state=seed)))"
   ]
  },
  {
   "cell_type": "code",
   "execution_count": 9,
   "id": "leading-birth",
   "metadata": {},
   "outputs": [],
   "source": [
    "results = []\n",
    "names   = []\n",
    "scoring    = \"accuracy\"\n"
   ]
  },
  {
   "cell_type": "code",
   "execution_count": 10,
   "id": "provincial-paris",
   "metadata": {},
   "outputs": [
    {
     "name": "stdout",
     "output_type": "stream",
     "text": [
      "LR LogisticRegression(random_state=9)\n",
      "LR: 0.758875 (0.008813)\n",
      "KNN KNeighborsClassifier()\n",
      "KNN: 0.754458 (0.005221)\n",
      "DT DecisionTreeClassifier(random_state=9)\n",
      "DT: 0.960083 (0.002980)\n",
      "RF RandomForestClassifier(random_state=9)\n",
      "RF: 0.973083 (0.003324)\n",
      "NB GaussianNB()\n",
      "NB: 0.625167 (0.013387)\n",
      "SVM SVC(random_state=9)\n",
      "SVM: 0.732750 (0.010785)\n"
     ]
    }
   ],
   "source": [
    "for name, model in models:\n",
    "    print(name, model)\n",
    "    kfold = KFold(n_splits=10, random_state=seed,shuffle = True)\n",
    "    cv_results = cross_val_score(model, X_train_features, y_train, cv=kfold, scoring=scoring)\n",
    "    results.append(cv_results)\n",
    "    names.append(name)\n",
    "    msg = \"%s: %f (%f)\" % (name, cv_results.mean(), cv_results.std())\n",
    "    print(msg)"
   ]
  },
  {
   "cell_type": "code",
   "execution_count": 66,
   "id": "patient-animation",
   "metadata": {},
   "outputs": [
    {
     "data": {
      "image/png": "[encoded data removed]",
      "text/plain": [
       "<Figure size 432x432 with 1 Axes>"
      ]
     },
     "metadata": {
      "needs_background": "light"
     },
     "output_type": "display_data"
    }
   ],
   "source": [
    "fig = pyplot.figure(figsize=(6,6))\n",
    "fig.suptitle('Machine Learning algorithms comparison')\n",
    "ax = fig.add_subplot(111)\n",
    "pyplot.boxplot(results)\n",
    "ax.set_xticklabels(names)\n",
    "ax.set_ylabel(\"Accuracy\")\n",
    "ax.set_xlabel(\"Models\")\n",
    "pyplot.show()"
   ]
  },
  {
   "cell_type": "code",
   "execution_count": 12,
   "id": "aggregate-imaging",
   "metadata": {},
   "outputs": [
    {
     "name": "stdout",
     "output_type": "stream",
     "text": [
      "Training LR\n",
      "Training KNN\n",
      "Training DT\n",
      "Training RF\n",
      "Training NB\n",
      "Training SVM\n"
     ]
    }
   ],
   "source": [
    "for name, model in models:\n",
    "    print(\"Training {}\".format(name))\n",
    "    model.fit(X_train_features,y_train)"
   ]
  },
  {
   "cell_type": "code",
   "execution_count": 67,
   "id": "buried-workstation",
   "metadata": {},
   "outputs": [],
   "source": [
    "X_val_features = fill_features(X_val)"
   ]
  },
  {
   "cell_type": "code",
   "execution_count": 68,
   "id": "material-marking",
   "metadata": {},
   "outputs": [
    {
     "name": "stdout",
     "output_type": "stream",
     "text": [
      "Validating LR\n",
      "Validating KNN\n",
      "Validating DT\n",
      "Validating RF\n",
      "Validating NB\n",
      "Validating SVM\n"
     ]
    }
   ],
   "source": [
    "predictions = []\n",
    "for name, model in models:\n",
    "    print(\"Validating {}\".format(name))\n",
    "    predictions.append(model.predict(X_val_features))"
   ]
  },
  {
   "cell_type": "code",
   "execution_count": 69,
   "id": "sensitive-strike",
   "metadata": {},
   "outputs": [
    {
     "data": {
      "text/html": [
       "<div>\n",
       "<style scoped>\n",
       "    .dataframe tbody tr th:only-of-type {\n",
       "        vertical-align: middle;\n",
       "    }\n",
       "\n",
       "    .dataframe tbody tr th {\n",
       "        vertical-align: top;\n",
       "    }\n",
       "\n",
       "    .dataframe thead th {\n",
       "        text-align: right;\n",
       "    }\n",
       "</style>\n",
       "<table border=\"1\" class=\"dataframe\">\n",
       "  <thead>\n",
       "    <tr style=\"text-align: right;\">\n",
       "      <th></th>\n",
       "      <th>LR</th>\n",
       "      <th>KNN</th>\n",
       "      <th>DT</th>\n",
       "      <th>RF</th>\n",
       "      <th>NB</th>\n",
       "      <th>SVM</th>\n",
       "    </tr>\n",
       "  </thead>\n",
       "  <tbody>\n",
       "    <tr>\n",
       "      <th>0</th>\n",
       "      <td>0.0</td>\n",
       "      <td>0.0</td>\n",
       "      <td>0.0</td>\n",
       "      <td>0.0</td>\n",
       "      <td>0.0</td>\n",
       "      <td>0.0</td>\n",
       "    </tr>\n",
       "    <tr>\n",
       "      <th>1</th>\n",
       "      <td>0.0</td>\n",
       "      <td>0.0</td>\n",
       "      <td>0.0</td>\n",
       "      <td>0.0</td>\n",
       "      <td>0.0</td>\n",
       "      <td>0.0</td>\n",
       "    </tr>\n",
       "    <tr>\n",
       "      <th>2</th>\n",
       "      <td>0.0</td>\n",
       "      <td>0.0</td>\n",
       "      <td>1.0</td>\n",
       "      <td>1.0</td>\n",
       "      <td>0.0</td>\n",
       "      <td>0.0</td>\n",
       "    </tr>\n",
       "    <tr>\n",
       "      <th>3</th>\n",
       "      <td>1.0</td>\n",
       "      <td>1.0</td>\n",
       "      <td>1.0</td>\n",
       "      <td>1.0</td>\n",
       "      <td>1.0</td>\n",
       "      <td>1.0</td>\n",
       "    </tr>\n",
       "    <tr>\n",
       "      <th>4</th>\n",
       "      <td>0.0</td>\n",
       "      <td>0.0</td>\n",
       "      <td>0.0</td>\n",
       "      <td>0.0</td>\n",
       "      <td>0.0</td>\n",
       "      <td>0.0</td>\n",
       "    </tr>\n",
       "  </tbody>\n",
       "</table>\n",
       "</div>"
      ],
      "text/plain": [
       "    LR  KNN   DT   RF   NB  SVM\n",
       "0  0.0  0.0  0.0  0.0  0.0  0.0\n",
       "1  0.0  0.0  0.0  0.0  0.0  0.0\n",
       "2  0.0  0.0  1.0  1.0  0.0  0.0\n",
       "3  1.0  1.0  1.0  1.0  1.0  1.0\n",
       "4  0.0  0.0  0.0  0.0  0.0  0.0"
      ]
     },
     "execution_count": 69,
     "metadata": {},
     "output_type": "execute_result"
    }
   ],
   "source": [
    "validations = pd.DataFrame(np.array(predictions).T,columns = names)\n",
    "validations.to_csv(\"Models_Predictions_Validations.csv\")\n",
    "validations.head()"
   ]
  },
  {
   "cell_type": "code",
   "execution_count": 70,
   "id": "dominican-center",
   "metadata": {},
   "outputs": [
    {
     "data": {
      "text/html": [
       "<div>\n",
       "<style scoped>\n",
       "    .dataframe tbody tr th:only-of-type {\n",
       "        vertical-align: middle;\n",
       "    }\n",
       "\n",
       "    .dataframe tbody tr th {\n",
       "        vertical-align: top;\n",
       "    }\n",
       "\n",
       "    .dataframe thead th {\n",
       "        text-align: right;\n",
       "    }\n",
       "</style>\n",
       "<table border=\"1\" class=\"dataframe\">\n",
       "  <thead>\n",
       "    <tr style=\"text-align: right;\">\n",
       "      <th></th>\n",
       "      <th>LR</th>\n",
       "      <th>KNN</th>\n",
       "      <th>DT</th>\n",
       "      <th>RF</th>\n",
       "      <th>NB</th>\n",
       "      <th>SVM</th>\n",
       "      <th>real</th>\n",
       "    </tr>\n",
       "  </thead>\n",
       "  <tbody>\n",
       "    <tr>\n",
       "      <th>0</th>\n",
       "      <td>0.0</td>\n",
       "      <td>0.0</td>\n",
       "      <td>0.0</td>\n",
       "      <td>0.0</td>\n",
       "      <td>0.0</td>\n",
       "      <td>0.0</td>\n",
       "      <td>0.0</td>\n",
       "    </tr>\n",
       "    <tr>\n",
       "      <th>1</th>\n",
       "      <td>0.0</td>\n",
       "      <td>0.0</td>\n",
       "      <td>0.0</td>\n",
       "      <td>0.0</td>\n",
       "      <td>0.0</td>\n",
       "      <td>0.0</td>\n",
       "      <td>0.0</td>\n",
       "    </tr>\n",
       "    <tr>\n",
       "      <th>2</th>\n",
       "      <td>0.0</td>\n",
       "      <td>0.0</td>\n",
       "      <td>1.0</td>\n",
       "      <td>1.0</td>\n",
       "      <td>0.0</td>\n",
       "      <td>0.0</td>\n",
       "      <td>1.0</td>\n",
       "    </tr>\n",
       "    <tr>\n",
       "      <th>3</th>\n",
       "      <td>1.0</td>\n",
       "      <td>1.0</td>\n",
       "      <td>1.0</td>\n",
       "      <td>1.0</td>\n",
       "      <td>1.0</td>\n",
       "      <td>1.0</td>\n",
       "      <td>1.0</td>\n",
       "    </tr>\n",
       "    <tr>\n",
       "      <th>4</th>\n",
       "      <td>0.0</td>\n",
       "      <td>0.0</td>\n",
       "      <td>0.0</td>\n",
       "      <td>0.0</td>\n",
       "      <td>0.0</td>\n",
       "      <td>0.0</td>\n",
       "      <td>0.0</td>\n",
       "    </tr>\n",
       "  </tbody>\n",
       "</table>\n",
       "</div>"
      ],
      "text/plain": [
       "    LR  KNN   DT   RF   NB  SVM  real\n",
       "0  0.0  0.0  0.0  0.0  0.0  0.0   0.0\n",
       "1  0.0  0.0  0.0  0.0  0.0  0.0   0.0\n",
       "2  0.0  0.0  1.0  1.0  0.0  0.0   1.0\n",
       "3  1.0  1.0  1.0  1.0  1.0  1.0   1.0\n",
       "4  0.0  0.0  0.0  0.0  0.0  0.0   0.0"
      ]
     },
     "execution_count": 70,
     "metadata": {},
     "output_type": "execute_result"
    }
   ],
   "source": [
    "validations[\"real\"]=y_val\n",
    "validations.head()"
   ]
  },
  {
   "cell_type": "code",
   "execution_count": 71,
   "id": "adjusted-cardiff",
   "metadata": {},
   "outputs": [],
   "source": [
    "from sklearn.metrics import accuracy_score \n",
    "from sklearn.metrics import precision_score \n",
    "from sklearn.metrics import recall_score \n",
    "from sklearn.metrics import roc_auc_score \n",
    "from sklearn.metrics import f1_score "
   ]
  },
  {
   "cell_type": "code",
   "execution_count": 72,
   "id": "rotary-dance",
   "metadata": {},
   "outputs": [],
   "source": [
    "w = np.array(results).mean(axis=1)\n",
    "w_2 = np.array(results).mean(axis=1)**2\n",
    "w_3 = np.array(results).mean(axis=1)**3\n",
    "w_4 = np.array(results).mean(axis=1)**4\n",
    "w_5 = np.array(results).mean(axis=1)**5\n"
   ]
  },
  {
   "cell_type": "code",
   "execution_count": 73,
   "id": "shaped-middle",
   "metadata": {},
   "outputs": [
    {
     "name": "stdout",
     "output_type": "stream",
     "text": [
      "[0.758875   0.75445833 0.96008333 0.97308333 0.62516667 0.73275   ]\n",
      "[0.57589127 0.56920738 0.92176001 0.94689117 0.39083336 0.53692256]\n",
      "[0.43702948 0.42944325 0.88496642 0.92140402 0.24433599 0.39343001]\n",
      "[0.33165075 0.32399704 0.84964151 0.89660289 0.15275072 0.28828584]\n",
      "[0.25168146 0.24444227 0.81572665 0.87246933 0.09549466 0.21124145]\n"
     ]
    }
   ],
   "source": [
    "print(w)\n",
    "print(w_2)\n",
    "print(w_3)\n",
    "print(w_4)\n",
    "print(w_5)\n"
   ]
  },
  {
   "cell_type": "code",
   "execution_count": 74,
   "id": "neither-accommodation",
   "metadata": {},
   "outputs": [],
   "source": [
    "emsemble_table = validations.drop(columns =[\"real\"])"
   ]
  },
  {
   "cell_type": "code",
   "execution_count": 75,
   "id": "suspected-rating",
   "metadata": {},
   "outputs": [
    {
     "data": {
      "text/plain": [
       "LR     0.0\n",
       "KNN    0.0\n",
       "DT     1.0\n",
       "RF     1.0\n",
       "NB     0.0\n",
       "SVM    0.0\n",
       "Name: 2, dtype: float64"
      ]
     },
     "execution_count": 75,
     "metadata": {},
     "output_type": "execute_result"
    }
   ],
   "source": [
    "emsemble_table.iloc[2]"
   ]
  },
  {
   "cell_type": "code",
   "execution_count": null,
   "id": "architectural-ukraine",
   "metadata": {},
   "outputs": [],
   "source": []
  },
  {
   "cell_type": "code",
   "execution_count": 76,
   "id": "becoming-knife",
   "metadata": {},
   "outputs": [],
   "source": [
    "def emsemble_algorithm(w):\n",
    "    emsemble_predict = []\n",
    "    for r in range(len(emsemble_table)):\n",
    "        vote = {0:0,1:0}\n",
    "        for i in range(len(w)):\n",
    "            vote[emsemble_table.iloc[r][i]]+=w[i]\n",
    "\n",
    "        emsemble_predict.append(max(vote, key=vote.get))\n",
    "    emsemble_predict = np.array(emsemble_predict)\n",
    "    return emsemble_predict"
   ]
  },
  {
   "cell_type": "code",
   "execution_count": 77,
   "id": "driven-flower",
   "metadata": {},
   "outputs": [],
   "source": [
    "emsemble_predict_w = emsemble_algorithm(w)\n",
    "emsemble_predict_w_2 = emsemble_algorithm(w_2)\n",
    "emsemble_predict_w_3 = emsemble_algorithm(w_3)\n",
    "emsemble_predict_w_4 = emsemble_algorithm(w_4)\n",
    "emsemble_predict_w_5 = emsemble_algorithm(w_5)\n"
   ]
  },
  {
   "cell_type": "code",
   "execution_count": null,
   "id": "brilliant-bandwidth",
   "metadata": {},
   "outputs": [],
   "source": []
  },
  {
   "cell_type": "code",
   "execution_count": 78,
   "id": "fantastic-peninsula",
   "metadata": {},
   "outputs": [
    {
     "name": "stdout",
     "output_type": "stream",
     "text": [
      "\tAccuracy\n",
      "0.8895\n",
      "\tPrecision\n",
      "0.7913758723828515\n",
      "\tRecall\n",
      "0.9854127870887648\n",
      "\tAUC\n",
      "0.9051174441931893\n",
      "\tF1-Score\n",
      "0.8777992811722422\n",
      "\n",
      "\n",
      "\tAccuracy\n",
      "0.8895\n",
      "\tPrecision\n",
      "0.7913758723828515\n",
      "\tRecall\n",
      "0.9854127870887648\n",
      "\tAUC\n",
      "0.9051174441931893\n",
      "\tF1-Score\n",
      "0.8777992811722422\n",
      "\n",
      "\n",
      "\tAccuracy\n",
      "0.970625\n",
      "\tPrecision\n",
      "0.965852442671984\n",
      "\tRecall\n",
      "0.9753335011326454\n",
      "\tAUC\n",
      "0.9706565692899383\n",
      "\tF1-Score\n",
      "0.9705698184095178\n",
      "\n",
      "\n",
      "\tAccuracy\n",
      "0.970625\n",
      "\tPrecision\n",
      "0.965852442671984\n",
      "\tRecall\n",
      "0.9753335011326454\n",
      "\tAUC\n",
      "0.9706565692899383\n",
      "\tF1-Score\n",
      "0.9705698184095178\n",
      "\n",
      "\n",
      "\tAccuracy\n",
      "0.970625\n",
      "\tPrecision\n",
      "0.965852442671984\n",
      "\tRecall\n",
      "0.9753335011326454\n",
      "\tAUC\n",
      "0.9706565692899383\n",
      "\tF1-Score\n",
      "0.9705698184095178\n",
      "\n",
      "\n"
     ]
    }
   ],
   "source": [
    "def show_results(emsemble_predict):\n",
    "    print(\"\\tAccuracy\")\n",
    "    print(accuracy_score(emsemble_predict,validations[\"real\"]))\n",
    "    print(\"\\tPrecision\")\n",
    "    print(precision_score(emsemble_predict,validations[\"real\"]))\n",
    "    print(\"\\tRecall\")\n",
    "    print(recall_score(emsemble_predict,validations[\"real\"]))\n",
    "    print(\"\\tAUC\")\n",
    "    print(roc_auc_score(emsemble_predict,validations[\"real\"]))\n",
    "    print(\"\\tF1-Score\")\n",
    "    print(f1_score(emsemble_predict,validations[\"real\"]))\n",
    "    print()\n",
    "    \n",
    "show_results(emsemble_predict_w)\n",
    "print()\n",
    "show_results(emsemble_predict_w_2)\n",
    "print()\n",
    "show_results(emsemble_predict_w_3)\n",
    "print()\n",
    "show_results(emsemble_predict_w_4)\n",
    "print()\n",
    "show_results(emsemble_predict_w_5)\n",
    "print()"
   ]
  },
  {
   "cell_type": "code",
   "execution_count": null,
   "id": "bound-therapist",
   "metadata": {},
   "outputs": [],
   "source": []
  },
  {
   "cell_type": "code",
   "execution_count": null,
   "id": "backed-james",
   "metadata": {},
   "outputs": [],
   "source": []
  },
  {
   "cell_type": "code",
   "execution_count": null,
   "id": "prompt-gathering",
   "metadata": {},
   "outputs": [],
   "source": []
  },
  {
   "cell_type": "code",
   "execution_count": 79,
   "id": "alone-surveillance",
   "metadata": {},
   "outputs": [],
   "source": [
    "names = [\"LR\",\"KNN\",\"DT\",\"RF\",\"NB\",\"SVM\"]"
   ]
  },
  {
   "cell_type": "code",
   "execution_count": 80,
   "id": "upset-browse",
   "metadata": {},
   "outputs": [],
   "source": [
    "models_metrics = []\n",
    "for c in names:\n",
    "    model_metrics = []\n",
    "    model_metrics.append(accuracy_score(validations[c],validations[\"real\"]))\n",
    "    model_metrics.append(precision_score(validations[c],validations[\"real\"]))\n",
    "    model_metrics.append(recall_score(validations[c],validations[\"real\"]))\n",
    "    model_metrics.append(roc_auc_score(validations[c],validations[\"real\"]))\n",
    "    model_metrics.append(f1_score(validations[c],validations[\"real\"]))\n",
    "    models_metrics.append(model_metrics)\n",
    "model_metrics = []\n",
    "model_metrics.append(accuracy_score(emsemble_predict_w_3,validations[\"real\"]))\n",
    "model_metrics.append(precision_score(emsemble_predict_w_3,validations[\"real\"]))\n",
    "model_metrics.append(recall_score(emsemble_predict_w_3,validations[\"real\"]))\n",
    "model_metrics.append(roc_auc_score(emsemble_predict_w_3,validations[\"real\"]))\n",
    "model_metrics.append(f1_score(emsemble_predict_w_3,validations[\"real\"]))\n",
    "models_metrics.append(model_metrics)"
   ]
  },
  {
   "cell_type": "code",
   "execution_count": 81,
   "id": "traditional-corner",
   "metadata": {},
   "outputs": [
    {
     "data": {
      "text/plain": [
       "[[0.763125,\n",
       "  0.6186440677966102,\n",
       "  0.8717948717948718,\n",
       "  0.7874402265048491,\n",
       "  0.7237206589881906],\n",
       " [0.756625,\n",
       "  0.5899800598205384,\n",
       "  0.8868490071187711,\n",
       "  0.789138253324908,\n",
       "  0.7085765603951505],\n",
       " [0.957875,\n",
       "  0.9536390827517448,\n",
       "  0.9620316821724918,\n",
       "  0.957898764277894,\n",
       "  0.9578169983727626],\n",
       " [0.97525,\n",
       "  0.9887836490528414,\n",
       "  0.9628640776699029,\n",
       "  0.9756330697627865,\n",
       "  0.9756517461878996],\n",
       " [0.624125,\n",
       "  0.3616650049850449,\n",
       "  0.764891934633632,\n",
       "  0.672631122158697,\n",
       "  0.49111524792689115],\n",
       " [0.742125,\n",
       "  0.5102193419740778,\n",
       "  0.9543123543123543,\n",
       "  0.8093508825361941,\n",
       "  0.6649342212116292],\n",
       " [0.970625,\n",
       "  0.965852442671984,\n",
       "  0.9753335011326454,\n",
       "  0.9706565692899383,\n",
       "  0.9705698184095178]]"
      ]
     },
     "execution_count": 81,
     "metadata": {},
     "output_type": "execute_result"
    }
   ],
   "source": [
    "models_metrics"
   ]
  },
  {
   "cell_type": "code",
   "execution_count": 82,
   "id": "sporting-teacher",
   "metadata": {},
   "outputs": [
    {
     "data": {
      "text/plain": [
       "<AxesSubplot:>"
      ]
     },
     "execution_count": 82,
     "metadata": {},
     "output_type": "execute_result"
    },
    {
     "data": {
      "image/png": "[encoded data removed]",
      "text/plain": [
       "<Figure size 864x864 with 1 Axes>"
      ]
     },
     "metadata": {
      "needs_background": "light"
     },
     "output_type": "display_data"
    }
   ],
   "source": [
    "\n",
    "plt.rc('font', size=15) \n",
    "results_metrics = pd.DataFrame(np.array(models_metrics),\n",
    "             index =[\"LR\",\"KNN\",\"DT\",\"RF\",\"NB\",\"SVM\",\"Emsemble\"],\n",
    "            columns = [\"Accuracy\",\"Precision\",\"Recall\",\"AUC\",\"F1-Score\"])\n",
    "results_metrics.to_csv(\"results.csv\")\n",
    "results_metrics.plot.barh(color=[\"#1e3888\",\"#47a8bd\",\"#f5e663\",\"#ffad69\",\"#9c3848\"],figsize=(12,12),grid=True )"
   ]
  },
  {
   "cell_type": "code",
   "execution_count": 83,
   "id": "variable-terminology",
   "metadata": {},
   "outputs": [
    {
     "data": {
      "text/html": [
       "<div>\n",
       "<style scoped>\n",
       "    .dataframe tbody tr th:only-of-type {\n",
       "        vertical-align: middle;\n",
       "    }\n",
       "\n",
       "    .dataframe tbody tr th {\n",
       "        vertical-align: top;\n",
       "    }\n",
       "\n",
       "    .dataframe thead th {\n",
       "        text-align: right;\n",
       "    }\n",
       "</style>\n",
       "<table border=\"1\" class=\"dataframe\">\n",
       "  <thead>\n",
       "    <tr style=\"text-align: right;\">\n",
       "      <th></th>\n",
       "      <th>Accuracy</th>\n",
       "      <th>Precision</th>\n",
       "      <th>Recall</th>\n",
       "      <th>AUC</th>\n",
       "      <th>F1-Score</th>\n",
       "    </tr>\n",
       "  </thead>\n",
       "  <tbody>\n",
       "    <tr>\n",
       "      <th>LR</th>\n",
       "      <td>0.763125</td>\n",
       "      <td>0.618644</td>\n",
       "      <td>0.871795</td>\n",
       "      <td>0.787440</td>\n",
       "      <td>0.723721</td>\n",
       "    </tr>\n",
       "    <tr>\n",
       "      <th>KNN</th>\n",
       "      <td>0.756625</td>\n",
       "      <td>0.589980</td>\n",
       "      <td>0.886849</td>\n",
       "      <td>0.789138</td>\n",
       "      <td>0.708577</td>\n",
       "    </tr>\n",
       "    <tr>\n",
       "      <th>DT</th>\n",
       "      <td>0.957875</td>\n",
       "      <td>0.953639</td>\n",
       "      <td>0.962032</td>\n",
       "      <td>0.957899</td>\n",
       "      <td>0.957817</td>\n",
       "    </tr>\n",
       "    <tr>\n",
       "      <th>RF</th>\n",
       "      <td>0.975250</td>\n",
       "      <td>0.988784</td>\n",
       "      <td>0.962864</td>\n",
       "      <td>0.975633</td>\n",
       "      <td>0.975652</td>\n",
       "    </tr>\n",
       "    <tr>\n",
       "      <th>NB</th>\n",
       "      <td>0.624125</td>\n",
       "      <td>0.361665</td>\n",
       "      <td>0.764892</td>\n",
       "      <td>0.672631</td>\n",
       "      <td>0.491115</td>\n",
       "    </tr>\n",
       "    <tr>\n",
       "      <th>SVM</th>\n",
       "      <td>0.742125</td>\n",
       "      <td>0.510219</td>\n",
       "      <td>0.954312</td>\n",
       "      <td>0.809351</td>\n",
       "      <td>0.664934</td>\n",
       "    </tr>\n",
       "    <tr>\n",
       "      <th>Emsemble</th>\n",
       "      <td>0.970625</td>\n",
       "      <td>0.965852</td>\n",
       "      <td>0.975334</td>\n",
       "      <td>0.970657</td>\n",
       "      <td>0.970570</td>\n",
       "    </tr>\n",
       "  </tbody>\n",
       "</table>\n",
       "</div>"
      ],
      "text/plain": [
       "          Accuracy  Precision    Recall       AUC  F1-Score\n",
       "LR        0.763125   0.618644  0.871795  0.787440  0.723721\n",
       "KNN       0.756625   0.589980  0.886849  0.789138  0.708577\n",
       "DT        0.957875   0.953639  0.962032  0.957899  0.957817\n",
       "RF        0.975250   0.988784  0.962864  0.975633  0.975652\n",
       "NB        0.624125   0.361665  0.764892  0.672631  0.491115\n",
       "SVM       0.742125   0.510219  0.954312  0.809351  0.664934\n",
       "Emsemble  0.970625   0.965852  0.975334  0.970657  0.970570"
      ]
     },
     "execution_count": 83,
     "metadata": {},
     "output_type": "execute_result"
    }
   ],
   "source": [
    "results_metrics"
   ]
  },
  {
   "cell_type": "code",
   "execution_count": 85,
   "id": "hairy-abortion",
   "metadata": {},
   "outputs": [],
   "source": [
    "X_test_features = fill_features(X_test)"
   ]
  },
  {
   "cell_type": "code",
   "execution_count": 86,
   "id": "false-quarterly",
   "metadata": {},
   "outputs": [
    {
     "name": "stdout",
     "output_type": "stream",
     "text": [
      "Testing LR\n",
      "Testing KNN\n",
      "Testing DT\n",
      "Testing RF\n",
      "Testing NB\n",
      "Testing SVM\n"
     ]
    }
   ],
   "source": [
    "predictions_test = []\n",
    "for name, model in models:\n",
    "    print(\"Testing {}\".format(name))\n",
    "    predictions_test.append(model.predict(X_test_features))"
   ]
  },
  {
   "cell_type": "code",
   "execution_count": 87,
   "id": "addressed-bottom",
   "metadata": {},
   "outputs": [
    {
     "data": {
      "text/html": [
       "<div>\n",
       "<style scoped>\n",
       "    .dataframe tbody tr th:only-of-type {\n",
       "        vertical-align: middle;\n",
       "    }\n",
       "\n",
       "    .dataframe tbody tr th {\n",
       "        vertical-align: top;\n",
       "    }\n",
       "\n",
       "    .dataframe thead th {\n",
       "        text-align: right;\n",
       "    }\n",
       "</style>\n",
       "<table border=\"1\" class=\"dataframe\">\n",
       "  <thead>\n",
       "    <tr style=\"text-align: right;\">\n",
       "      <th></th>\n",
       "      <th>LR</th>\n",
       "      <th>KNN</th>\n",
       "      <th>DT</th>\n",
       "      <th>RF</th>\n",
       "      <th>NB</th>\n",
       "      <th>SVM</th>\n",
       "      <th>real</th>\n",
       "    </tr>\n",
       "  </thead>\n",
       "  <tbody>\n",
       "    <tr>\n",
       "      <th>0</th>\n",
       "      <td>0.0</td>\n",
       "      <td>0.0</td>\n",
       "      <td>0.0</td>\n",
       "      <td>0.0</td>\n",
       "      <td>0.0</td>\n",
       "      <td>0.0</td>\n",
       "      <td>0.0</td>\n",
       "    </tr>\n",
       "    <tr>\n",
       "      <th>1</th>\n",
       "      <td>1.0</td>\n",
       "      <td>1.0</td>\n",
       "      <td>1.0</td>\n",
       "      <td>1.0</td>\n",
       "      <td>1.0</td>\n",
       "      <td>1.0</td>\n",
       "      <td>1.0</td>\n",
       "    </tr>\n",
       "    <tr>\n",
       "      <th>2</th>\n",
       "      <td>0.0</td>\n",
       "      <td>0.0</td>\n",
       "      <td>0.0</td>\n",
       "      <td>0.0</td>\n",
       "      <td>0.0</td>\n",
       "      <td>0.0</td>\n",
       "      <td>0.0</td>\n",
       "    </tr>\n",
       "    <tr>\n",
       "      <th>3</th>\n",
       "      <td>0.0</td>\n",
       "      <td>0.0</td>\n",
       "      <td>0.0</td>\n",
       "      <td>0.0</td>\n",
       "      <td>0.0</td>\n",
       "      <td>0.0</td>\n",
       "      <td>0.0</td>\n",
       "    </tr>\n",
       "    <tr>\n",
       "      <th>4</th>\n",
       "      <td>1.0</td>\n",
       "      <td>0.0</td>\n",
       "      <td>1.0</td>\n",
       "      <td>0.0</td>\n",
       "      <td>1.0</td>\n",
       "      <td>1.0</td>\n",
       "      <td>0.0</td>\n",
       "    </tr>\n",
       "  </tbody>\n",
       "</table>\n",
       "</div>"
      ],
      "text/plain": [
       "    LR  KNN   DT   RF   NB  SVM  real\n",
       "0  0.0  0.0  0.0  0.0  0.0  0.0   0.0\n",
       "1  1.0  1.0  1.0  1.0  1.0  1.0   1.0\n",
       "2  0.0  0.0  0.0  0.0  0.0  0.0   0.0\n",
       "3  0.0  0.0  0.0  0.0  0.0  0.0   0.0\n",
       "4  1.0  0.0  1.0  0.0  1.0  1.0   0.0"
      ]
     },
     "execution_count": 87,
     "metadata": {},
     "output_type": "execute_result"
    }
   ],
   "source": [
    "tests = pd.DataFrame(np.array(predictions_test).T,columns = names)\n",
    "\n",
    "tests[\"real\"]=y_test\n",
    "tests.head()\n"
   ]
  },
  {
   "cell_type": "code",
   "execution_count": 88,
   "id": "dynamic-situation",
   "metadata": {},
   "outputs": [],
   "source": [
    "emsemble_table_test = tests.drop(columns =[\"real\"])"
   ]
  },
  {
   "cell_type": "code",
   "execution_count": 89,
   "id": "hindu-shepherd",
   "metadata": {},
   "outputs": [
    {
     "data": {
      "text/plain": [
       "array([0, 1, 0, ..., 1, 1, 1])"
      ]
     },
     "execution_count": 89,
     "metadata": {},
     "output_type": "execute_result"
    }
   ],
   "source": [
    "emsemble_predict_test = []\n",
    "for r in range(len(emsemble_table_test)):\n",
    "    vote = {0:0,1:0}\n",
    "    for i in range(len(w)):\n",
    "        vote[emsemble_table_test.iloc[r][i]]+=w_3[i]\n",
    "\n",
    "    emsemble_predict_test.append(max(vote, key=vote.get))\n",
    "emsemble_predict_test = np.array(emsemble_predict_test)\n",
    "emsemble_predict_test"
   ]
  },
  {
   "cell_type": "code",
   "execution_count": 90,
   "id": "indie-fitting",
   "metadata": {},
   "outputs": [],
   "source": [
    "test_metrics=[]\n",
    "test_metrics.append(accuracy_score(emsemble_predict_test,y_test))\n",
    "test_metrics.append(precision_score(emsemble_predict_test,y_test))\n",
    "test_metrics.append(recall_score(emsemble_predict_test,y_test))\n",
    "test_metrics.append(roc_auc_score(emsemble_predict_test,y_test))\n",
    "test_metrics.append(f1_score(emsemble_predict_test,y_test))\n"
   ]
  },
  {
   "cell_type": "code",
   "execution_count": 91,
   "id": "foster-voluntary",
   "metadata": {},
   "outputs": [
    {
     "data": {
      "text/html": [
       "<div>\n",
       "<style scoped>\n",
       "    .dataframe tbody tr th:only-of-type {\n",
       "        vertical-align: middle;\n",
       "    }\n",
       "\n",
       "    .dataframe tbody tr th {\n",
       "        vertical-align: top;\n",
       "    }\n",
       "\n",
       "    .dataframe thead th {\n",
       "        text-align: right;\n",
       "    }\n",
       "</style>\n",
       "<table border=\"1\" class=\"dataframe\">\n",
       "  <thead>\n",
       "    <tr style=\"text-align: right;\">\n",
       "      <th></th>\n",
       "      <th>Emsemble</th>\n",
       "    </tr>\n",
       "  </thead>\n",
       "  <tbody>\n",
       "    <tr>\n",
       "      <th>Accuracy</th>\n",
       "      <td>0.970250</td>\n",
       "    </tr>\n",
       "    <tr>\n",
       "      <th>Precision</th>\n",
       "      <td>0.967383</td>\n",
       "    </tr>\n",
       "    <tr>\n",
       "      <th>Recall</th>\n",
       "      <td>0.973638</td>\n",
       "    </tr>\n",
       "    <tr>\n",
       "      <th>AUC</th>\n",
       "      <td>0.970232</td>\n",
       "    </tr>\n",
       "    <tr>\n",
       "      <th>F1-Score</th>\n",
       "      <td>0.970501</td>\n",
       "    </tr>\n",
       "  </tbody>\n",
       "</table>\n",
       "</div>"
      ],
      "text/plain": [
       "           Emsemble\n",
       "Accuracy   0.970250\n",
       "Precision  0.967383\n",
       "Recall     0.973638\n",
       "AUC        0.970232\n",
       "F1-Score   0.970501"
      ]
     },
     "metadata": {},
     "output_type": "display_data"
    },
    {
     "data": {
      "text/plain": [
       "<AxesSubplot:>"
      ]
     },
     "execution_count": 91,
     "metadata": {},
     "output_type": "execute_result"
    },
    {
     "data": {
      "image/png": "[encoded data removed]",
      "text/plain": [
       "<Figure size 504x504 with 1 Axes>"
      ]
     },
     "metadata": {
      "needs_background": "light"
     },
     "output_type": "display_data"
    }
   ],
   "source": [
    "results_metrics = pd.DataFrame(np.array(test_metrics),\n",
    "             columns =[\"Emsemble\"],\n",
    "            index = [\"Accuracy\",\"Precision\",\"Recall\",\"AUC\",\"F1-Score\"])\n",
    "results_metrics.to_csv(\"results.csv\")\n",
    "display(results_metrics)\n",
    "results_metrics.plot.barh(color=[\"#f5e663\"],figsize=(7,7),grid=True )"
   ]
  },
  {
   "cell_type": "code",
   "execution_count": 92,
   "id": "worthy-jewel",
   "metadata": {},
   "outputs": [],
   "source": [
    "image_path = \"dataset_test/dataset_test\"\n",
    "\n",
    "def loadTestSet(path):\n",
    "    def loadImages(path):\n",
    "        # literalmente dar load das imagens todas para estes arrays\n",
    "        # Listas por compreencao for life <3\n",
    "        images = [image.load_img(image_path+\"/images/\"+file,target_size = (28,28), color_mode='grayscale') for file in sorted(os.listdir(image_path+\"/images\"))]\n",
    "        return images\n",
    "\n",
    "    def imagesToArray(imgs):\n",
    "        return np.array([image.img_to_array(img)[:,:,0] for img in imgs])\n",
    "    \n",
    "    images = loadImages(path)\n",
    "    images_array = imagesToArray(images)\n",
    "    return images_array\n",
    "  \n",
    "test_set = loadTestSet(image_path)"
   ]
  },
  {
   "cell_type": "code",
   "execution_count": 130,
   "id": "framed-color",
   "metadata": {},
   "outputs": [
    {
     "data": {
      "text/plain": [
       "(2000, 28, 28, 1)"
      ]
     },
     "execution_count": 130,
     "metadata": {},
     "output_type": "execute_result"
    }
   ],
   "source": [
    "test_set = test_set.reshape(-1, 28, 28, 1)\n",
    "test_set.shape"
   ]
  },
  {
   "cell_type": "code",
   "execution_count": 132,
   "id": "composed-weapon",
   "metadata": {},
   "outputs": [],
   "source": [
    "X_test_final_features = fill_features(test_set)"
   ]
  },
  {
   "cell_type": "code",
   "execution_count": 134,
   "id": "smaller-directory",
   "metadata": {},
   "outputs": [
    {
     "name": "stdout",
     "output_type": "stream",
     "text": [
      "Testing LR\n",
      "Testing LDA\n",
      "Testing KNN\n",
      "Testing DT\n",
      "Testing RF\n",
      "Testing NB\n",
      "Testing SVM\n"
     ]
    }
   ],
   "source": [
    "predictions_test_final = []\n",
    "for name, model in models:\n",
    "    print(\"Testing {}\".format(name))\n",
    "    predictions_test_final.append(model.predict(X_test_final_features))"
   ]
  },
  {
   "cell_type": "code",
   "execution_count": 135,
   "id": "excess-heath",
   "metadata": {},
   "outputs": [],
   "source": [
    "tests_final = pd.DataFrame(np.array(predictions_test_final).T,columns = names)"
   ]
  },
  {
   "cell_type": "code",
   "execution_count": 136,
   "id": "cooked-dylan",
   "metadata": {},
   "outputs": [
    {
     "data": {
      "text/plain": [
       "array([0, 1, 0, ..., 1, 1, 0])"
      ]
     },
     "execution_count": 136,
     "metadata": {},
     "output_type": "execute_result"
    }
   ],
   "source": [
    "emsemble_predict_test_final = []\n",
    "for r in range(len(tests_final)):\n",
    "    vote = {0:0,1:0}\n",
    "    for i in range(len(w)):\n",
    "        vote[tests_final.iloc[r][i]]+=w[i]\n",
    "\n",
    "    emsemble_predict_test_final.append(max(vote, key=vote.get))\n",
    "emsemble_predict_test_final = np.array(emsemble_predict_test_final)\n",
    "emsemble_predict_test_final"
   ]
  },
  {
   "cell_type": "code",
   "execution_count": 137,
   "id": "respiratory-attention",
   "metadata": {},
   "outputs": [
    {
     "data": {
      "text/html": [
       "<div>\n",
       "<style scoped>\n",
       "    .dataframe tbody tr th:only-of-type {\n",
       "        vertical-align: middle;\n",
       "    }\n",
       "\n",
       "    .dataframe tbody tr th {\n",
       "        vertical-align: top;\n",
       "    }\n",
       "\n",
       "    .dataframe thead th {\n",
       "        text-align: right;\n",
       "    }\n",
       "</style>\n",
       "<table border=\"1\" class=\"dataframe\">\n",
       "  <thead>\n",
       "    <tr style=\"text-align: right;\">\n",
       "      <th></th>\n",
       "      <th>Id</th>\n",
       "      <th>Category</th>\n",
       "    </tr>\n",
       "  </thead>\n",
       "  <tbody>\n",
       "    <tr>\n",
       "      <th>0</th>\n",
       "      <td>0</td>\n",
       "      <td>0</td>\n",
       "    </tr>\n",
       "    <tr>\n",
       "      <th>1</th>\n",
       "      <td>1</td>\n",
       "      <td>1</td>\n",
       "    </tr>\n",
       "    <tr>\n",
       "      <th>1112</th>\n",
       "      <td>2</td>\n",
       "      <td>0</td>\n",
       "    </tr>\n",
       "    <tr>\n",
       "      <th>1223</th>\n",
       "      <td>3</td>\n",
       "      <td>1</td>\n",
       "    </tr>\n",
       "    <tr>\n",
       "      <th>1334</th>\n",
       "      <td>4</td>\n",
       "      <td>1</td>\n",
       "    </tr>\n",
       "    <tr>\n",
       "      <th>...</th>\n",
       "      <td>...</td>\n",
       "      <td>...</td>\n",
       "    </tr>\n",
       "    <tr>\n",
       "      <th>1107</th>\n",
       "      <td>1995</td>\n",
       "      <td>0</td>\n",
       "    </tr>\n",
       "    <tr>\n",
       "      <th>1108</th>\n",
       "      <td>1996</td>\n",
       "      <td>0</td>\n",
       "    </tr>\n",
       "    <tr>\n",
       "      <th>1109</th>\n",
       "      <td>1997</td>\n",
       "      <td>0</td>\n",
       "    </tr>\n",
       "    <tr>\n",
       "      <th>1110</th>\n",
       "      <td>1998</td>\n",
       "      <td>1</td>\n",
       "    </tr>\n",
       "    <tr>\n",
       "      <th>1111</th>\n",
       "      <td>1999</td>\n",
       "      <td>0</td>\n",
       "    </tr>\n",
       "  </tbody>\n",
       "</table>\n",
       "<p>2000 rows × 2 columns</p>\n",
       "</div>"
      ],
      "text/plain": [
       "        Id  Category\n",
       "0        0         0\n",
       "1        1         1\n",
       "1112     2         0\n",
       "1223     3         1\n",
       "1334     4         1\n",
       "...    ...       ...\n",
       "1107  1995         0\n",
       "1108  1996         0\n",
       "1109  1997         0\n",
       "1110  1998         1\n",
       "1111  1999         0\n",
       "\n",
       "[2000 rows x 2 columns]"
      ]
     },
     "execution_count": 137,
     "metadata": {},
     "output_type": "execute_result"
    }
   ],
   "source": [
    "ids = [img.split(\".\")[0] for img in sorted(os.listdir(\"dataset_test/dataset_test/images\"))]\n",
    "submition = pd.DataFrame((np.array([ids,emsemble_predict_test_final]).T),columns= [\"Id\",\"Category\"])\n",
    "submition = submition.astype(int).sort_values(\"Id\")\n",
    "submition.to_csv(\"Submition_ensemble.csv\",index=False)\n",
    "submition"
   ]
  },
  {
   "cell_type": "code",
   "execution_count": null,
   "id": "greatest-murray",
   "metadata": {},
   "outputs": [],
   "source": []
  }
 ],
 "metadata": {
  "accelerator": "GPU",
  "colab": {
   "collapsed_sections": [],
   "name": "Keras Model.ipynb",
   "provenance": []
  },
  "kernelspec": {
   "display_name": "Python 3",
   "language": "python",
   "name": "python3"
  },
  "language_info": {
   "codemirror_mode": {
    "name": "ipython",
    "version": 3
   },
   "file_extension": ".py",
   "mimetype": "text/x-python",
   "name": "python",
   "nbconvert_exporter": "python",
   "pygments_lexer": "ipython3",
   "version": "3.8.5"
  }
 },
 "nbformat": 4,
 "nbformat_minor": 5
}
